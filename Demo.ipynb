{
 "cells": [
  {
   "cell_type": "markdown",
   "id": "15f32679-3a6f-4a41-bf1a-d8cd3f917399",
   "metadata": {},
   "source": [
    "# ML PROJECT: Anna Hauk "
   ]
  },
  {
   "cell_type": "markdown",
   "id": "3cc201a2-c53f-4859-a1a8-50f68bbeea3a",
   "metadata": {},
   "source": [
    "# <font color = hotpink>PREDICTING RATING SCORE ON AIRBNB NYC DATA</font>\n",
    "In this project, I will implement my machine learning project plan. I will:\n",
    "\n",
    "1. Perform exploratory data analysis on your data to determine which feature engineering and data preparation techniques you will use.\n",
    "2. Prepare the data for the models; select features and a label.\n",
    "3. Pick a couple Regression Models\n",
    "4. Fit your model to the training data and evaluate your model.\n",
    "5. Improve your model by performing model selection and/or feature selection techniques to find best model for your problem."
   ]
  },
  {
   "cell_type": "markdown",
   "id": "7f57260a",
   "metadata": {},
   "source": [
    "### Import Packages\n",
    "\n",
    "Before you get started, import a few packages."
   ]
  },
  {
   "cell_type": "code",
   "execution_count": 1,
   "id": "bbb79d68-08c0-448c-900d-9a7aaa91a888",
   "metadata": {},
   "outputs": [],
   "source": [
    "import pandas as pd\n",
    "import numpy as np\n",
    "import os \n",
    "import matplotlib.pyplot as plt\n",
    "import seaborn as sns\n",
    "import sklearn as scikit_learn\n",
    "\n",
    "from sklearn.metrics import accuracy_score, roc_auc_score\n",
    "from sklearn.model_selection import train_test_split, GridSearchCV"
   ]
  },
  {
   "cell_type": "markdown",
   "id": "7ec6f852-7ff8-4f78-914b-e1ceeb1859be",
   "metadata": {},
   "source": [
    "## Part 1: Exploratory Data Analysis\n",
    "\n",
    "We have chosen to work with one of four data sets\n",
    "* The airbnb NYC \"listings\" data set is located in file  `airbnbListingsData.csv`\n"
   ]
  },
  {
   "cell_type": "code",
   "execution_count": 2,
   "id": "5dc393e7-f52f-47e3-8efb-6a5c7c0f446d",
   "metadata": {},
   "outputs": [],
   "source": [
    "filename = \"/Users/annahauk/Desktop/Machine Learning/airbnbListingsData.csv\"\n",
    "#filename = os.path.join(os.getcwd(), \"data\", \"airbnbListingsData.csv\")\n",
    "df = pd.read_csv(filename, header = 0)"
   ]
  },
  {
   "cell_type": "code",
   "execution_count": 3,
   "id": "9f1ef40e-bd10-4adc-94ef-64434cebd53c",
   "metadata": {},
   "outputs": [
    {
     "data": {
      "text/html": [
       "<div>\n",
       "<style scoped>\n",
       "    .dataframe tbody tr th:only-of-type {\n",
       "        vertical-align: middle;\n",
       "    }\n",
       "\n",
       "    .dataframe tbody tr th {\n",
       "        vertical-align: top;\n",
       "    }\n",
       "\n",
       "    .dataframe thead th {\n",
       "        text-align: right;\n",
       "    }\n",
       "</style>\n",
       "<table border=\"1\" class=\"dataframe\">\n",
       "  <thead>\n",
       "    <tr style=\"text-align: right;\">\n",
       "      <th></th>\n",
       "      <th>name</th>\n",
       "      <th>description</th>\n",
       "      <th>neighborhood_overview</th>\n",
       "      <th>host_name</th>\n",
       "      <th>host_location</th>\n",
       "      <th>host_about</th>\n",
       "      <th>host_response_rate</th>\n",
       "      <th>host_acceptance_rate</th>\n",
       "      <th>host_is_superhost</th>\n",
       "      <th>host_listings_count</th>\n",
       "      <th>...</th>\n",
       "      <th>review_scores_communication</th>\n",
       "      <th>review_scores_location</th>\n",
       "      <th>review_scores_value</th>\n",
       "      <th>instant_bookable</th>\n",
       "      <th>calculated_host_listings_count</th>\n",
       "      <th>calculated_host_listings_count_entire_homes</th>\n",
       "      <th>calculated_host_listings_count_private_rooms</th>\n",
       "      <th>calculated_host_listings_count_shared_rooms</th>\n",
       "      <th>reviews_per_month</th>\n",
       "      <th>n_host_verifications</th>\n",
       "    </tr>\n",
       "  </thead>\n",
       "  <tbody>\n",
       "    <tr>\n",
       "      <th>0</th>\n",
       "      <td>Skylit Midtown Castle</td>\n",
       "      <td>Beautiful, spacious skylit studio in the heart...</td>\n",
       "      <td>Centrally located in the heart of Manhattan ju...</td>\n",
       "      <td>Jennifer</td>\n",
       "      <td>New York, New York, United States</td>\n",
       "      <td>A New Yorker since 2000! My passion is creatin...</td>\n",
       "      <td>0.80</td>\n",
       "      <td>0.17</td>\n",
       "      <td>True</td>\n",
       "      <td>8.0</td>\n",
       "      <td>...</td>\n",
       "      <td>4.79</td>\n",
       "      <td>4.86</td>\n",
       "      <td>4.41</td>\n",
       "      <td>False</td>\n",
       "      <td>3</td>\n",
       "      <td>3</td>\n",
       "      <td>0</td>\n",
       "      <td>0</td>\n",
       "      <td>0.33</td>\n",
       "      <td>9</td>\n",
       "    </tr>\n",
       "    <tr>\n",
       "      <th>1</th>\n",
       "      <td>Whole flr w/private bdrm, bath &amp; kitchen(pls r...</td>\n",
       "      <td>Enjoy 500 s.f. top floor in 1899 brownstone, w...</td>\n",
       "      <td>Just the right mix of urban center and local n...</td>\n",
       "      <td>LisaRoxanne</td>\n",
       "      <td>New York, New York, United States</td>\n",
       "      <td>Laid-back Native New Yorker (formerly bi-coast...</td>\n",
       "      <td>0.09</td>\n",
       "      <td>0.69</td>\n",
       "      <td>True</td>\n",
       "      <td>1.0</td>\n",
       "      <td>...</td>\n",
       "      <td>4.80</td>\n",
       "      <td>4.71</td>\n",
       "      <td>4.64</td>\n",
       "      <td>False</td>\n",
       "      <td>1</td>\n",
       "      <td>1</td>\n",
       "      <td>0</td>\n",
       "      <td>0</td>\n",
       "      <td>4.86</td>\n",
       "      <td>6</td>\n",
       "    </tr>\n",
       "    <tr>\n",
       "      <th>2</th>\n",
       "      <td>Spacious Brooklyn Duplex, Patio + Garden</td>\n",
       "      <td>We welcome you to stay in our lovely 2 br dupl...</td>\n",
       "      <td>NaN</td>\n",
       "      <td>Rebecca</td>\n",
       "      <td>Brooklyn, New York, United States</td>\n",
       "      <td>Rebecca is an artist/designer, and Henoch is i...</td>\n",
       "      <td>1.00</td>\n",
       "      <td>0.25</td>\n",
       "      <td>True</td>\n",
       "      <td>1.0</td>\n",
       "      <td>...</td>\n",
       "      <td>5.00</td>\n",
       "      <td>4.50</td>\n",
       "      <td>5.00</td>\n",
       "      <td>False</td>\n",
       "      <td>1</td>\n",
       "      <td>1</td>\n",
       "      <td>0</td>\n",
       "      <td>0</td>\n",
       "      <td>0.02</td>\n",
       "      <td>3</td>\n",
       "    </tr>\n",
       "    <tr>\n",
       "      <th>3</th>\n",
       "      <td>Large Furnished Room Near B'way</td>\n",
       "      <td>Please don’t expect the luxury here just a bas...</td>\n",
       "      <td>Theater district, many restaurants around here.</td>\n",
       "      <td>Shunichi</td>\n",
       "      <td>New York, New York, United States</td>\n",
       "      <td>I used to work for a financial industry but no...</td>\n",
       "      <td>1.00</td>\n",
       "      <td>1.00</td>\n",
       "      <td>True</td>\n",
       "      <td>1.0</td>\n",
       "      <td>...</td>\n",
       "      <td>4.42</td>\n",
       "      <td>4.87</td>\n",
       "      <td>4.36</td>\n",
       "      <td>False</td>\n",
       "      <td>1</td>\n",
       "      <td>0</td>\n",
       "      <td>1</td>\n",
       "      <td>0</td>\n",
       "      <td>3.68</td>\n",
       "      <td>4</td>\n",
       "    </tr>\n",
       "    <tr>\n",
       "      <th>4</th>\n",
       "      <td>Cozy Clean Guest Room - Family Apt</td>\n",
       "      <td>Our best guests are seeking a safe, clean, spa...</td>\n",
       "      <td>Our neighborhood is full of restaurants and ca...</td>\n",
       "      <td>MaryEllen</td>\n",
       "      <td>New York, New York, United States</td>\n",
       "      <td>Welcome to family life with my oldest two away...</td>\n",
       "      <td>NaN</td>\n",
       "      <td>NaN</td>\n",
       "      <td>True</td>\n",
       "      <td>1.0</td>\n",
       "      <td>...</td>\n",
       "      <td>4.95</td>\n",
       "      <td>4.94</td>\n",
       "      <td>4.92</td>\n",
       "      <td>False</td>\n",
       "      <td>1</td>\n",
       "      <td>0</td>\n",
       "      <td>1</td>\n",
       "      <td>0</td>\n",
       "      <td>0.87</td>\n",
       "      <td>7</td>\n",
       "    </tr>\n",
       "  </tbody>\n",
       "</table>\n",
       "<p>5 rows × 50 columns</p>\n",
       "</div>"
      ],
      "text/plain": [
       "                                                name  \\\n",
       "0                              Skylit Midtown Castle   \n",
       "1  Whole flr w/private bdrm, bath & kitchen(pls r...   \n",
       "2           Spacious Brooklyn Duplex, Patio + Garden   \n",
       "3                   Large Furnished Room Near B'way　   \n",
       "4                 Cozy Clean Guest Room - Family Apt   \n",
       "\n",
       "                                         description  \\\n",
       "0  Beautiful, spacious skylit studio in the heart...   \n",
       "1  Enjoy 500 s.f. top floor in 1899 brownstone, w...   \n",
       "2  We welcome you to stay in our lovely 2 br dupl...   \n",
       "3  Please don’t expect the luxury here just a bas...   \n",
       "4  Our best guests are seeking a safe, clean, spa...   \n",
       "\n",
       "                               neighborhood_overview    host_name  \\\n",
       "0  Centrally located in the heart of Manhattan ju...     Jennifer   \n",
       "1  Just the right mix of urban center and local n...  LisaRoxanne   \n",
       "2                                                NaN      Rebecca   \n",
       "3    Theater district, many restaurants around here.     Shunichi   \n",
       "4  Our neighborhood is full of restaurants and ca...    MaryEllen   \n",
       "\n",
       "                       host_location  \\\n",
       "0  New York, New York, United States   \n",
       "1  New York, New York, United States   \n",
       "2  Brooklyn, New York, United States   \n",
       "3  New York, New York, United States   \n",
       "4  New York, New York, United States   \n",
       "\n",
       "                                          host_about  host_response_rate  \\\n",
       "0  A New Yorker since 2000! My passion is creatin...                0.80   \n",
       "1  Laid-back Native New Yorker (formerly bi-coast...                0.09   \n",
       "2  Rebecca is an artist/designer, and Henoch is i...                1.00   \n",
       "3  I used to work for a financial industry but no...                1.00   \n",
       "4  Welcome to family life with my oldest two away...                 NaN   \n",
       "\n",
       "   host_acceptance_rate  host_is_superhost  host_listings_count  ...  \\\n",
       "0                  0.17               True                  8.0  ...   \n",
       "1                  0.69               True                  1.0  ...   \n",
       "2                  0.25               True                  1.0  ...   \n",
       "3                  1.00               True                  1.0  ...   \n",
       "4                   NaN               True                  1.0  ...   \n",
       "\n",
       "   review_scores_communication  review_scores_location  review_scores_value  \\\n",
       "0                         4.79                    4.86                 4.41   \n",
       "1                         4.80                    4.71                 4.64   \n",
       "2                         5.00                    4.50                 5.00   \n",
       "3                         4.42                    4.87                 4.36   \n",
       "4                         4.95                    4.94                 4.92   \n",
       "\n",
       "  instant_bookable calculated_host_listings_count  \\\n",
       "0            False                              3   \n",
       "1            False                              1   \n",
       "2            False                              1   \n",
       "3            False                              1   \n",
       "4            False                              1   \n",
       "\n",
       "   calculated_host_listings_count_entire_homes  \\\n",
       "0                                            3   \n",
       "1                                            1   \n",
       "2                                            1   \n",
       "3                                            0   \n",
       "4                                            0   \n",
       "\n",
       "   calculated_host_listings_count_private_rooms  \\\n",
       "0                                             0   \n",
       "1                                             0   \n",
       "2                                             0   \n",
       "3                                             1   \n",
       "4                                             1   \n",
       "\n",
       "   calculated_host_listings_count_shared_rooms  reviews_per_month  \\\n",
       "0                                            0               0.33   \n",
       "1                                            0               4.86   \n",
       "2                                            0               0.02   \n",
       "3                                            0               3.68   \n",
       "4                                            0               0.87   \n",
       "\n",
       "  n_host_verifications  \n",
       "0                    9  \n",
       "1                    6  \n",
       "2                    3  \n",
       "3                    4  \n",
       "4                    7  \n",
       "\n",
       "[5 rows x 50 columns]"
      ]
     },
     "execution_count": 3,
     "metadata": {},
     "output_type": "execute_result"
    }
   ],
   "source": [
    "df.head()"
   ]
  },
  {
   "cell_type": "code",
   "execution_count": 4,
   "id": "b5f749e1-d43c-40dc-ad24-5e8f4a5d4133",
   "metadata": {},
   "outputs": [
    {
     "data": {
      "text/plain": [
       "(28022, 50)"
      ]
     },
     "execution_count": 4,
     "metadata": {},
     "output_type": "execute_result"
    }
   ],
   "source": [
    "df.shape"
   ]
  },
  {
   "cell_type": "code",
   "execution_count": 5,
   "id": "dec6b79e-7425-4cc7-a97b-3c8aed1848c0",
   "metadata": {},
   "outputs": [
    {
     "data": {
      "text/html": [
       "<div>\n",
       "<style scoped>\n",
       "    .dataframe tbody tr th:only-of-type {\n",
       "        vertical-align: middle;\n",
       "    }\n",
       "\n",
       "    .dataframe tbody tr th {\n",
       "        vertical-align: top;\n",
       "    }\n",
       "\n",
       "    .dataframe thead th {\n",
       "        text-align: right;\n",
       "    }\n",
       "</style>\n",
       "<table border=\"1\" class=\"dataframe\">\n",
       "  <thead>\n",
       "    <tr style=\"text-align: right;\">\n",
       "      <th></th>\n",
       "      <th>name</th>\n",
       "      <th>description</th>\n",
       "      <th>neighborhood_overview</th>\n",
       "      <th>host_name</th>\n",
       "      <th>host_location</th>\n",
       "      <th>host_about</th>\n",
       "      <th>host_response_rate</th>\n",
       "      <th>host_acceptance_rate</th>\n",
       "      <th>host_is_superhost</th>\n",
       "      <th>host_listings_count</th>\n",
       "      <th>...</th>\n",
       "      <th>review_scores_communication</th>\n",
       "      <th>review_scores_location</th>\n",
       "      <th>review_scores_value</th>\n",
       "      <th>instant_bookable</th>\n",
       "      <th>calculated_host_listings_count</th>\n",
       "      <th>calculated_host_listings_count_entire_homes</th>\n",
       "      <th>calculated_host_listings_count_private_rooms</th>\n",
       "      <th>calculated_host_listings_count_shared_rooms</th>\n",
       "      <th>reviews_per_month</th>\n",
       "      <th>n_host_verifications</th>\n",
       "    </tr>\n",
       "  </thead>\n",
       "  <tbody>\n",
       "    <tr>\n",
       "      <th>28017</th>\n",
       "      <td>Astoria Luxury suite 2A</td>\n",
       "      <td>THIS LOVELY HOME IS THE SPACIOUS SUITE WITH PR...</td>\n",
       "      <td>NaN</td>\n",
       "      <td>Vicky</td>\n",
       "      <td>Queens, New York, United States</td>\n",
       "      <td>NaN</td>\n",
       "      <td>1.00</td>\n",
       "      <td>1.00</td>\n",
       "      <td>True</td>\n",
       "      <td>8.0</td>\n",
       "      <td>...</td>\n",
       "      <td>5.0</td>\n",
       "      <td>3.0</td>\n",
       "      <td>1.0</td>\n",
       "      <td>True</td>\n",
       "      <td>8</td>\n",
       "      <td>0</td>\n",
       "      <td>8</td>\n",
       "      <td>0</td>\n",
       "      <td>1.0</td>\n",
       "      <td>2</td>\n",
       "    </tr>\n",
       "    <tr>\n",
       "      <th>28018</th>\n",
       "      <td>Newly renovated suite in the heart of Williams...</td>\n",
       "      <td>Just fully renovated from head to toe. On the ...</td>\n",
       "      <td>NaN</td>\n",
       "      <td>Samuel</td>\n",
       "      <td>New York, New York, United States</td>\n",
       "      <td>Hello, my name is Sam. I am a real estate prof...</td>\n",
       "      <td>0.91</td>\n",
       "      <td>0.89</td>\n",
       "      <td>True</td>\n",
       "      <td>0.0</td>\n",
       "      <td>...</td>\n",
       "      <td>5.0</td>\n",
       "      <td>5.0</td>\n",
       "      <td>5.0</td>\n",
       "      <td>False</td>\n",
       "      <td>1</td>\n",
       "      <td>1</td>\n",
       "      <td>0</td>\n",
       "      <td>0</td>\n",
       "      <td>2.0</td>\n",
       "      <td>5</td>\n",
       "    </tr>\n",
       "    <tr>\n",
       "      <th>28019</th>\n",
       "      <td>Perfect Room to Stay in Brooklyn! Near Metro!</td>\n",
       "      <td>Amazing and comfortable space in Brooklyn, sam...</td>\n",
       "      <td>NaN</td>\n",
       "      <td>Carlos</td>\n",
       "      <td>US</td>\n",
       "      <td>NaN</td>\n",
       "      <td>0.99</td>\n",
       "      <td>0.99</td>\n",
       "      <td>True</td>\n",
       "      <td>6.0</td>\n",
       "      <td>...</td>\n",
       "      <td>5.0</td>\n",
       "      <td>5.0</td>\n",
       "      <td>2.0</td>\n",
       "      <td>True</td>\n",
       "      <td>7</td>\n",
       "      <td>0</td>\n",
       "      <td>7</td>\n",
       "      <td>0</td>\n",
       "      <td>1.0</td>\n",
       "      <td>2</td>\n",
       "    </tr>\n",
       "    <tr>\n",
       "      <th>28020</th>\n",
       "      <td>New Beautiful Modern One Bedroom in Brooklyn</td>\n",
       "      <td>This stylish place to stay is perfect for a gr...</td>\n",
       "      <td>NaN</td>\n",
       "      <td>Lexia</td>\n",
       "      <td>New York, New York, United States</td>\n",
       "      <td>I am a graphic designer, swell chaser and duri...</td>\n",
       "      <td>0.90</td>\n",
       "      <td>1.00</td>\n",
       "      <td>True</td>\n",
       "      <td>3.0</td>\n",
       "      <td>...</td>\n",
       "      <td>5.0</td>\n",
       "      <td>5.0</td>\n",
       "      <td>5.0</td>\n",
       "      <td>False</td>\n",
       "      <td>3</td>\n",
       "      <td>3</td>\n",
       "      <td>0</td>\n",
       "      <td>0</td>\n",
       "      <td>1.0</td>\n",
       "      <td>7</td>\n",
       "    </tr>\n",
       "    <tr>\n",
       "      <th>28021</th>\n",
       "      <td>Large, modern, private 1 bedroom in beach condo</td>\n",
       "      <td>Private bedroom on its own floor with very lar...</td>\n",
       "      <td>Beach, surf shop, stop and shop, Dunkin’ Donut...</td>\n",
       "      <td>Justine</td>\n",
       "      <td>US</td>\n",
       "      <td>NaN</td>\n",
       "      <td>NaN</td>\n",
       "      <td>NaN</td>\n",
       "      <td>True</td>\n",
       "      <td>0.0</td>\n",
       "      <td>...</td>\n",
       "      <td>5.0</td>\n",
       "      <td>5.0</td>\n",
       "      <td>5.0</td>\n",
       "      <td>True</td>\n",
       "      <td>1</td>\n",
       "      <td>0</td>\n",
       "      <td>1</td>\n",
       "      <td>0</td>\n",
       "      <td>1.0</td>\n",
       "      <td>1</td>\n",
       "    </tr>\n",
       "  </tbody>\n",
       "</table>\n",
       "<p>5 rows × 50 columns</p>\n",
       "</div>"
      ],
      "text/plain": [
       "                                                    name  \\\n",
       "28017                            Astoria Luxury suite 2A   \n",
       "28018  Newly renovated suite in the heart of Williams...   \n",
       "28019      Perfect Room to Stay in Brooklyn! Near Metro!   \n",
       "28020       New Beautiful Modern One Bedroom in Brooklyn   \n",
       "28021    Large, modern, private 1 bedroom in beach condo   \n",
       "\n",
       "                                             description  \\\n",
       "28017  THIS LOVELY HOME IS THE SPACIOUS SUITE WITH PR...   \n",
       "28018  Just fully renovated from head to toe. On the ...   \n",
       "28019  Amazing and comfortable space in Brooklyn, sam...   \n",
       "28020  This stylish place to stay is perfect for a gr...   \n",
       "28021  Private bedroom on its own floor with very lar...   \n",
       "\n",
       "                                   neighborhood_overview host_name  \\\n",
       "28017                                                NaN     Vicky   \n",
       "28018                                                NaN    Samuel   \n",
       "28019                                                NaN    Carlos   \n",
       "28020                                                NaN     Lexia   \n",
       "28021  Beach, surf shop, stop and shop, Dunkin’ Donut...   Justine   \n",
       "\n",
       "                           host_location  \\\n",
       "28017    Queens, New York, United States   \n",
       "28018  New York, New York, United States   \n",
       "28019                                 US   \n",
       "28020  New York, New York, United States   \n",
       "28021                                 US   \n",
       "\n",
       "                                              host_about  host_response_rate  \\\n",
       "28017                                                NaN                1.00   \n",
       "28018  Hello, my name is Sam. I am a real estate prof...                0.91   \n",
       "28019                                                NaN                0.99   \n",
       "28020  I am a graphic designer, swell chaser and duri...                0.90   \n",
       "28021                                                NaN                 NaN   \n",
       "\n",
       "       host_acceptance_rate  host_is_superhost  host_listings_count  ...  \\\n",
       "28017                  1.00               True                  8.0  ...   \n",
       "28018                  0.89               True                  0.0  ...   \n",
       "28019                  0.99               True                  6.0  ...   \n",
       "28020                  1.00               True                  3.0  ...   \n",
       "28021                   NaN               True                  0.0  ...   \n",
       "\n",
       "       review_scores_communication  review_scores_location  \\\n",
       "28017                          5.0                     3.0   \n",
       "28018                          5.0                     5.0   \n",
       "28019                          5.0                     5.0   \n",
       "28020                          5.0                     5.0   \n",
       "28021                          5.0                     5.0   \n",
       "\n",
       "       review_scores_value instant_bookable calculated_host_listings_count  \\\n",
       "28017                  1.0             True                              8   \n",
       "28018                  5.0            False                              1   \n",
       "28019                  2.0             True                              7   \n",
       "28020                  5.0            False                              3   \n",
       "28021                  5.0             True                              1   \n",
       "\n",
       "       calculated_host_listings_count_entire_homes  \\\n",
       "28017                                            0   \n",
       "28018                                            1   \n",
       "28019                                            0   \n",
       "28020                                            3   \n",
       "28021                                            0   \n",
       "\n",
       "       calculated_host_listings_count_private_rooms  \\\n",
       "28017                                             8   \n",
       "28018                                             0   \n",
       "28019                                             7   \n",
       "28020                                             0   \n",
       "28021                                             1   \n",
       "\n",
       "       calculated_host_listings_count_shared_rooms  reviews_per_month  \\\n",
       "28017                                            0                1.0   \n",
       "28018                                            0                2.0   \n",
       "28019                                            0                1.0   \n",
       "28020                                            0                1.0   \n",
       "28021                                            0                1.0   \n",
       "\n",
       "      n_host_verifications  \n",
       "28017                    2  \n",
       "28018                    5  \n",
       "28019                    2  \n",
       "28020                    7  \n",
       "28021                    1  \n",
       "\n",
       "[5 rows x 50 columns]"
      ]
     },
     "execution_count": 5,
     "metadata": {},
     "output_type": "execute_result"
    }
   ],
   "source": [
    "df.tail()"
   ]
  },
  {
   "cell_type": "code",
   "execution_count": 6,
   "id": "a0aa97f1-a2ca-485b-b006-04750dc3c923",
   "metadata": {},
   "outputs": [
    {
     "name": "stdout",
     "output_type": "stream",
     "text": [
      "<class 'pandas.core.frame.DataFrame'>\n",
      "RangeIndex: 28022 entries, 0 to 28021\n",
      "Data columns (total 50 columns):\n",
      " #   Column                                        Non-Null Count  Dtype  \n",
      "---  ------                                        --------------  -----  \n",
      " 0   name                                          28017 non-null  object \n",
      " 1   description                                   27452 non-null  object \n",
      " 2   neighborhood_overview                         18206 non-null  object \n",
      " 3   host_name                                     28022 non-null  object \n",
      " 4   host_location                                 27962 non-null  object \n",
      " 5   host_about                                    17077 non-null  object \n",
      " 6   host_response_rate                            16179 non-null  float64\n",
      " 7   host_acceptance_rate                          16909 non-null  float64\n",
      " 8   host_is_superhost                             28022 non-null  bool   \n",
      " 9   host_listings_count                           28022 non-null  float64\n",
      " 10  host_total_listings_count                     28022 non-null  float64\n",
      " 11  host_has_profile_pic                          28022 non-null  bool   \n",
      " 12  host_identity_verified                        28022 non-null  bool   \n",
      " 13  neighbourhood_group_cleansed                  28022 non-null  object \n",
      " 14  room_type                                     28022 non-null  object \n",
      " 15  accommodates                                  28022 non-null  int64  \n",
      " 16  bathrooms                                     28022 non-null  float64\n",
      " 17  bedrooms                                      25104 non-null  float64\n",
      " 18  beds                                          26668 non-null  float64\n",
      " 19  amenities                                     28022 non-null  object \n",
      " 20  price                                         28022 non-null  float64\n",
      " 21  minimum_nights                                28022 non-null  int64  \n",
      " 22  maximum_nights                                28022 non-null  int64  \n",
      " 23  minimum_minimum_nights                        28022 non-null  float64\n",
      " 24  maximum_minimum_nights                        28022 non-null  float64\n",
      " 25  minimum_maximum_nights                        28022 non-null  float64\n",
      " 26  maximum_maximum_nights                        28022 non-null  float64\n",
      " 27  minimum_nights_avg_ntm                        28022 non-null  float64\n",
      " 28  maximum_nights_avg_ntm                        28022 non-null  float64\n",
      " 29  has_availability                              28022 non-null  bool   \n",
      " 30  availability_30                               28022 non-null  int64  \n",
      " 31  availability_60                               28022 non-null  int64  \n",
      " 32  availability_90                               28022 non-null  int64  \n",
      " 33  availability_365                              28022 non-null  int64  \n",
      " 34  number_of_reviews                             28022 non-null  int64  \n",
      " 35  number_of_reviews_ltm                         28022 non-null  int64  \n",
      " 36  number_of_reviews_l30d                        28022 non-null  int64  \n",
      " 37  review_scores_rating                          28022 non-null  float64\n",
      " 38  review_scores_cleanliness                     28022 non-null  float64\n",
      " 39  review_scores_checkin                         28022 non-null  float64\n",
      " 40  review_scores_communication                   28022 non-null  float64\n",
      " 41  review_scores_location                        28022 non-null  float64\n",
      " 42  review_scores_value                           28022 non-null  float64\n",
      " 43  instant_bookable                              28022 non-null  bool   \n",
      " 44  calculated_host_listings_count                28022 non-null  int64  \n",
      " 45  calculated_host_listings_count_entire_homes   28022 non-null  int64  \n",
      " 46  calculated_host_listings_count_private_rooms  28022 non-null  int64  \n",
      " 47  calculated_host_listings_count_shared_rooms   28022 non-null  int64  \n",
      " 48  reviews_per_month                             28022 non-null  float64\n",
      " 49  n_host_verifications                          28022 non-null  int64  \n",
      "dtypes: bool(5), float64(21), int64(15), object(9)\n",
      "memory usage: 9.8+ MB\n"
     ]
    }
   ],
   "source": [
    "df.info()"
   ]
  },
  {
   "cell_type": "code",
   "execution_count": 7,
   "id": "f224843d-6f1d-411e-b175-4bd5757417f5",
   "metadata": {},
   "outputs": [
    {
     "data": {
      "text/plain": [
       "Index(['name', 'description', 'neighborhood_overview', 'host_name',\n",
       "       'host_location', 'host_about', 'host_response_rate',\n",
       "       'host_acceptance_rate', 'host_is_superhost', 'host_listings_count',\n",
       "       'host_total_listings_count', 'host_has_profile_pic',\n",
       "       'host_identity_verified', 'neighbourhood_group_cleansed', 'room_type',\n",
       "       'accommodates', 'bathrooms', 'bedrooms', 'beds', 'amenities', 'price',\n",
       "       'minimum_nights', 'maximum_nights', 'minimum_minimum_nights',\n",
       "       'maximum_minimum_nights', 'minimum_maximum_nights',\n",
       "       'maximum_maximum_nights', 'minimum_nights_avg_ntm',\n",
       "       'maximum_nights_avg_ntm', 'has_availability', 'availability_30',\n",
       "       'availability_60', 'availability_90', 'availability_365',\n",
       "       'number_of_reviews', 'number_of_reviews_ltm', 'number_of_reviews_l30d',\n",
       "       'review_scores_rating', 'review_scores_cleanliness',\n",
       "       'review_scores_checkin', 'review_scores_communication',\n",
       "       'review_scores_location', 'review_scores_value', 'instant_bookable',\n",
       "       'calculated_host_listings_count',\n",
       "       'calculated_host_listings_count_entire_homes',\n",
       "       'calculated_host_listings_count_private_rooms',\n",
       "       'calculated_host_listings_count_shared_rooms', 'reviews_per_month',\n",
       "       'n_host_verifications'],\n",
       "      dtype='object')"
      ]
     },
     "execution_count": 7,
     "metadata": {},
     "output_type": "execute_result"
    }
   ],
   "source": [
    "type(df.columns)\n",
    "a = list(df.columns)\n",
    "df.columns\n"
   ]
  },
  {
   "cell_type": "code",
   "execution_count": 8,
   "id": "537d3268-f43e-4df9-ae64-ded9d10867ff",
   "metadata": {},
   "outputs": [
    {
     "data": {
      "text/plain": [
       "name                                             object\n",
       "description                                      object\n",
       "neighborhood_overview                            object\n",
       "host_name                                        object\n",
       "host_location                                    object\n",
       "host_about                                       object\n",
       "host_response_rate                              float64\n",
       "host_acceptance_rate                            float64\n",
       "host_is_superhost                                  bool\n",
       "host_listings_count                             float64\n",
       "host_total_listings_count                       float64\n",
       "host_has_profile_pic                               bool\n",
       "host_identity_verified                             bool\n",
       "neighbourhood_group_cleansed                     object\n",
       "room_type                                        object\n",
       "accommodates                                      int64\n",
       "bathrooms                                       float64\n",
       "bedrooms                                        float64\n",
       "beds                                            float64\n",
       "amenities                                        object\n",
       "price                                           float64\n",
       "minimum_nights                                    int64\n",
       "maximum_nights                                    int64\n",
       "minimum_minimum_nights                          float64\n",
       "maximum_minimum_nights                          float64\n",
       "minimum_maximum_nights                          float64\n",
       "maximum_maximum_nights                          float64\n",
       "minimum_nights_avg_ntm                          float64\n",
       "maximum_nights_avg_ntm                          float64\n",
       "has_availability                                   bool\n",
       "availability_30                                   int64\n",
       "availability_60                                   int64\n",
       "availability_90                                   int64\n",
       "availability_365                                  int64\n",
       "number_of_reviews                                 int64\n",
       "number_of_reviews_ltm                             int64\n",
       "number_of_reviews_l30d                            int64\n",
       "review_scores_rating                            float64\n",
       "review_scores_cleanliness                       float64\n",
       "review_scores_checkin                           float64\n",
       "review_scores_communication                     float64\n",
       "review_scores_location                          float64\n",
       "review_scores_value                             float64\n",
       "instant_bookable                                   bool\n",
       "calculated_host_listings_count                    int64\n",
       "calculated_host_listings_count_entire_homes       int64\n",
       "calculated_host_listings_count_private_rooms      int64\n",
       "calculated_host_listings_count_shared_rooms       int64\n",
       "reviews_per_month                               float64\n",
       "n_host_verifications                              int64\n",
       "dtype: object"
      ]
     },
     "execution_count": 8,
     "metadata": {},
     "output_type": "execute_result"
    }
   ],
   "source": [
    "#my fave\n",
    "#type(df.dtypes)\n",
    "df.dtypes"
   ]
  },
  {
   "cell_type": "markdown",
   "id": "0d94829a",
   "metadata": {},
   "source": [
    "### How to figure out how many unique elements we have in one column:"
   ]
  },
  {
   "cell_type": "code",
   "execution_count": 9,
   "id": "6b9dc8ed-94ea-4b28-813c-237e5ec1e9d3",
   "metadata": {},
   "outputs": [
    {
     "name": "stdout",
     "output_type": "stream",
     "text": [
      "float64\n"
     ]
    },
    {
     "data": {
      "text/plain": [
       "73"
      ]
     },
     "execution_count": 9,
     "metadata": {},
     "output_type": "execute_result"
    }
   ],
   "source": [
    "a = df['host_total_listings_count'].dtype\n",
    "print(a)\n",
    "df['host_total_listings_count'].nunique()\n",
    "#len(df['host_total_listings_count'].unique())\n",
    "#helps us consider "
   ]
  },
  {
   "cell_type": "code",
   "execution_count": 10,
   "id": "b20f2060-8f15-45f9-94be-77d38e113011",
   "metadata": {},
   "outputs": [
    {
     "name": "stdout",
     "output_type": "stream",
     "text": [
      "object\n"
     ]
    },
    {
     "data": {
      "text/plain": [
       "1364"
      ]
     },
     "execution_count": 10,
     "metadata": {},
     "output_type": "execute_result"
    }
   ],
   "source": [
    "a = df['host_location'].dtype\n",
    "print(a)\n",
    "df['host_location'].nunique()"
   ]
  },
  {
   "cell_type": "code",
   "execution_count": 11,
   "id": "2ed11682",
   "metadata": {},
   "outputs": [
    {
     "data": {
      "text/plain": [
       "26132                                   US\n",
       "13951    New York, New York, United States\n",
       "9724     New York, New York, United States\n",
       "26977    Abingdon, Maryland, United States\n",
       "6795     New York, New York, United States\n",
       "7230     New York, New York, United States\n",
       "7232     New York, New York, United States\n",
       "399      New York, New York, United States\n",
       "15470    Brooklyn, New York, United States\n",
       "4483        Paris, New York, United States\n",
       "26492                                   US\n",
       "2327     New York, New York, United States\n",
       "934      New York, New York, United States\n",
       "17097                                   US\n",
       "13215    New York, New York, United States\n",
       "Name: host_location, dtype: object"
      ]
     },
     "execution_count": 11,
     "metadata": {},
     "output_type": "execute_result"
    }
   ],
   "source": [
    "df['host_location'].sample(15)"
   ]
  },
  {
   "cell_type": "markdown",
   "id": "0124b226",
   "metadata": {},
   "source": [
    "### Turns out theres another column called <font color = lightgreen>'neighbourhood_group_cleansed'"
   ]
  },
  {
   "cell_type": "code",
   "execution_count": 12,
   "id": "0605d8a9",
   "metadata": {},
   "outputs": [
    {
     "name": "stdout",
     "output_type": "stream",
     "text": [
      "5\n"
     ]
    },
    {
     "data": {
      "text/plain": [
       "array(['Manhattan', 'Brooklyn', 'Queens', 'Staten Island', 'Bronx'],\n",
       "      dtype=object)"
      ]
     },
     "execution_count": 12,
     "metadata": {},
     "output_type": "execute_result"
    }
   ],
   "source": [
    "print(df['neighbourhood_group_cleansed'].nunique())\n",
    "df['neighbourhood_group_cleansed'].unique()"
   ]
  },
  {
   "cell_type": "markdown",
   "id": "57696368",
   "metadata": {},
   "source": [
    "# Part 2: Data Cleaning"
   ]
  },
  {
   "cell_type": "markdown",
   "id": "38448cad",
   "metadata": {},
   "source": [
    "<b>Feature Engineering</b>: most relevant variables(features) from raw data when creating a predictive model using machine learning or statistical modeling\n",
    "* addressing missingness, such as replacing missing values with means\n",
    "* renaming features and labels\n",
    "* finding and replacing outliers\n",
    "* performing winsorization if needed\n",
    "* performing one-hot encoding on categorical features\n",
    "* performing vectorization for an NLP problem\n",
    "* addressing class imbalance in your data sample to promote fair AI\n",
    "\n",
    "Okay so we we're just looking at the <font color = orange> data types </font> of each columns. We'll use that now to pick which columns are relevant to keep."
   ]
  },
  {
   "cell_type": "code",
   "execution_count": 13,
   "id": "6f9fa6f5",
   "metadata": {},
   "outputs": [
    {
     "data": {
      "text/plain": [
       "name                                             object\n",
       "description                                      object\n",
       "neighborhood_overview                            object\n",
       "host_name                                        object\n",
       "host_location                                    object\n",
       "host_about                                       object\n",
       "host_response_rate                              float64\n",
       "host_acceptance_rate                            float64\n",
       "host_is_superhost                                  bool\n",
       "host_listings_count                             float64\n",
       "host_total_listings_count                       float64\n",
       "host_has_profile_pic                               bool\n",
       "host_identity_verified                             bool\n",
       "neighbourhood_group_cleansed                     object\n",
       "room_type                                        object\n",
       "accommodates                                      int64\n",
       "bathrooms                                       float64\n",
       "bedrooms                                        float64\n",
       "beds                                            float64\n",
       "amenities                                        object\n",
       "price                                           float64\n",
       "minimum_nights                                    int64\n",
       "maximum_nights                                    int64\n",
       "minimum_minimum_nights                          float64\n",
       "maximum_minimum_nights                          float64\n",
       "minimum_maximum_nights                          float64\n",
       "maximum_maximum_nights                          float64\n",
       "minimum_nights_avg_ntm                          float64\n",
       "maximum_nights_avg_ntm                          float64\n",
       "has_availability                                   bool\n",
       "availability_30                                   int64\n",
       "availability_60                                   int64\n",
       "availability_90                                   int64\n",
       "availability_365                                  int64\n",
       "number_of_reviews                                 int64\n",
       "number_of_reviews_ltm                             int64\n",
       "number_of_reviews_l30d                            int64\n",
       "review_scores_rating                            float64\n",
       "review_scores_cleanliness                       float64\n",
       "review_scores_checkin                           float64\n",
       "review_scores_communication                     float64\n",
       "review_scores_location                          float64\n",
       "review_scores_value                             float64\n",
       "instant_bookable                                   bool\n",
       "calculated_host_listings_count                    int64\n",
       "calculated_host_listings_count_entire_homes       int64\n",
       "calculated_host_listings_count_private_rooms      int64\n",
       "calculated_host_listings_count_shared_rooms       int64\n",
       "reviews_per_month                               float64\n",
       "n_host_verifications                              int64\n",
       "dtype: object"
      ]
     },
     "execution_count": 13,
     "metadata": {},
     "output_type": "execute_result"
    }
   ],
   "source": [
    "df.dtypes"
   ]
  },
  {
   "cell_type": "code",
   "execution_count": 14,
   "id": "8918df0f",
   "metadata": {},
   "outputs": [
    {
     "data": {
      "text/plain": [
       "['name',\n",
       " 'description',\n",
       " 'neighborhood_overview',\n",
       " 'host_name',\n",
       " 'host_location',\n",
       " 'host_about',\n",
       " 'neighbourhood_group_cleansed',\n",
       " 'room_type',\n",
       " 'amenities']"
      ]
     },
     "execution_count": 14,
     "metadata": {},
     "output_type": "execute_result"
    }
   ],
   "source": [
    "objects = list(df.select_dtypes(['object']))\n",
    "objects\n",
    "#shows all the columns with object "
   ]
  },
  {
   "cell_type": "code",
   "execution_count": 15,
   "id": "78f3200f",
   "metadata": {},
   "outputs": [
    {
     "data": {
      "text/plain": [
       "0                                    Skylit Midtown Castle\n",
       "1        Whole flr w/private bdrm, bath & kitchen(pls r...\n",
       "2                 Spacious Brooklyn Duplex, Patio + Garden\n",
       "3                         Large Furnished Room Near B'way　\n",
       "4                       Cozy Clean Guest Room - Family Apt\n",
       "                               ...                        \n",
       "28017                              Astoria Luxury suite 2A\n",
       "28018    Newly renovated suite in the heart of Williams...\n",
       "28019        Perfect Room to Stay in Brooklyn! Near Metro!\n",
       "28020         New Beautiful Modern One Bedroom in Brooklyn\n",
       "28021      Large, modern, private 1 bedroom in beach condo\n",
       "Name: name, Length: 28022, dtype: object"
      ]
     },
     "execution_count": 15,
     "metadata": {},
     "output_type": "execute_result"
    }
   ],
   "source": [
    "df['name']"
   ]
  },
  {
   "cell_type": "markdown",
   "id": "0d91059b",
   "metadata": {},
   "source": [
    "### Let's start picking columns that are relevant to listings overal rating"
   ]
  },
  {
   "cell_type": "code",
   "execution_count": 16,
   "id": "62ea50f4",
   "metadata": {},
   "outputs": [
    {
     "data": {
      "text/plain": [
       "(28022, 50)"
      ]
     },
     "execution_count": 16,
     "metadata": {},
     "output_type": "execute_result"
    }
   ],
   "source": [
    "#And we'll modify a seperate dataframe\n",
    "df_rate = df\n",
    "df_rate.shape"
   ]
  },
  {
   "cell_type": "code",
   "execution_count": 17,
   "id": "5f2e98fb",
   "metadata": {},
   "outputs": [
    {
     "data": {
      "text/plain": [
       "host_response_rate                              float64\n",
       "host_is_superhost                                  bool\n",
       "host_listings_count                             float64\n",
       "host_total_listings_count                       float64\n",
       "host_has_profile_pic                               bool\n",
       "host_identity_verified                             bool\n",
       "neighbourhood_group_cleansed                     object\n",
       "room_type                                        object\n",
       "accommodates                                      int64\n",
       "bathrooms                                       float64\n",
       "bedrooms                                        float64\n",
       "beds                                            float64\n",
       "price                                           float64\n",
       "minimum_nights                                    int64\n",
       "maximum_nights                                    int64\n",
       "minimum_minimum_nights                          float64\n",
       "maximum_minimum_nights                          float64\n",
       "minimum_maximum_nights                          float64\n",
       "maximum_maximum_nights                          float64\n",
       "minimum_nights_avg_ntm                          float64\n",
       "maximum_nights_avg_ntm                          float64\n",
       "has_availability                                   bool\n",
       "availability_30                                   int64\n",
       "availability_60                                   int64\n",
       "availability_90                                   int64\n",
       "availability_365                                  int64\n",
       "number_of_reviews                                 int64\n",
       "number_of_reviews_ltm                             int64\n",
       "number_of_reviews_l30d                            int64\n",
       "review_scores_rating                            float64\n",
       "review_scores_cleanliness                       float64\n",
       "review_scores_checkin                           float64\n",
       "review_scores_communication                     float64\n",
       "review_scores_location                          float64\n",
       "review_scores_value                             float64\n",
       "instant_bookable                                   bool\n",
       "calculated_host_listings_count                    int64\n",
       "calculated_host_listings_count_entire_homes       int64\n",
       "calculated_host_listings_count_private_rooms      int64\n",
       "calculated_host_listings_count_shared_rooms       int64\n",
       "reviews_per_month                               float64\n",
       "n_host_verifications                              int64\n",
       "dtype: object"
      ]
     },
     "execution_count": 17,
     "metadata": {},
     "output_type": "execute_result"
    }
   ],
   "source": [
    "df_rate = df_rate.drop(columns = ['name','description','neighborhood_overview','host_name','host_location',\n",
    " 'host_about','amenities', 'host_acceptance_rate'], axis =1)\n",
    "df_rate.dtypes\n",
    "#amentities would be a good column but we'd need NLP to analyize the specific words in the amentiies that attribute to a high rating"
   ]
  },
  {
   "cell_type": "code",
   "execution_count": 18,
   "id": "432d9d61",
   "metadata": {},
   "outputs": [
    {
     "data": {
      "text/plain": [
       "42"
      ]
     },
     "execution_count": 18,
     "metadata": {},
     "output_type": "execute_result"
    }
   ],
   "source": [
    "df_rate.shape[1]"
   ]
  },
  {
   "cell_type": "code",
   "execution_count": 19,
   "id": "534c16de",
   "metadata": {},
   "outputs": [],
   "source": [
    "df_rate = df_rate.drop(columns = ['host_total_listings_count','host_has_profile_pic', 'host_identity_verified',\n",
    "                             'minimum_nights','maximum_nights', 'minimum_minimum_nights', 'maximum_minimum_nights',\n",
    "                              'minimum_maximum_nights', 'maximum_maximum_nights','minimum_nights_avg_ntm',\n",
    "                              'maximum_nights_avg_ntm'], axis = 1)\n"
   ]
  },
  {
   "cell_type": "code",
   "execution_count": 20,
   "id": "7232a7bf",
   "metadata": {},
   "outputs": [
    {
     "name": "stdout",
     "output_type": "stream",
     "text": [
      "(28022, 31)\n"
     ]
    },
    {
     "data": {
      "text/plain": [
       "host_response_rate                              float64\n",
       "host_is_superhost                                  bool\n",
       "host_listings_count                             float64\n",
       "neighbourhood_group_cleansed                     object\n",
       "room_type                                        object\n",
       "accommodates                                      int64\n",
       "bathrooms                                       float64\n",
       "bedrooms                                        float64\n",
       "beds                                            float64\n",
       "price                                           float64\n",
       "has_availability                                   bool\n",
       "availability_30                                   int64\n",
       "availability_60                                   int64\n",
       "availability_90                                   int64\n",
       "availability_365                                  int64\n",
       "number_of_reviews                                 int64\n",
       "number_of_reviews_ltm                             int64\n",
       "number_of_reviews_l30d                            int64\n",
       "review_scores_rating                            float64\n",
       "review_scores_cleanliness                       float64\n",
       "review_scores_checkin                           float64\n",
       "review_scores_communication                     float64\n",
       "review_scores_location                          float64\n",
       "review_scores_value                             float64\n",
       "instant_bookable                                   bool\n",
       "calculated_host_listings_count                    int64\n",
       "calculated_host_listings_count_entire_homes       int64\n",
       "calculated_host_listings_count_private_rooms      int64\n",
       "calculated_host_listings_count_shared_rooms       int64\n",
       "reviews_per_month                               float64\n",
       "n_host_verifications                              int64\n",
       "dtype: object"
      ]
     },
     "execution_count": 20,
     "metadata": {},
     "output_type": "execute_result"
    }
   ],
   "source": [
    "print(df_rate.shape)\n",
    "df_rate.dtypes"
   ]
  },
  {
   "cell_type": "code",
   "execution_count": 21,
   "metadata": {},
   "outputs": [
    {
     "data": {
      "text/plain": [
       "21261     0\n",
       "24229     9\n",
       "14630     2\n",
       "26068     2\n",
       "26601    11\n",
       "6961      4\n",
       "5315      0\n",
       "573      32\n",
       "16541    16\n",
       "24964     4\n",
       "Name: number_of_reviews_ltm, dtype: int64"
      ]
     },
     "execution_count": 21,
     "metadata": {},
     "output_type": "execute_result"
    }
   ],
   "source": [
    "df_rate['number_of_reviews_ltm'].sample(10) #out of 29\n",
    "#df_rate.loc[22074]"
   ]
  },
  {
   "cell_type": "code",
   "execution_count": 22,
   "id": "2d833d91",
   "metadata": {},
   "outputs": [
    {
     "data": {
      "text/plain": [
       "Index(['host_response_rate', 'host_is_superhost', 'host_listings_count',\n",
       "       'neighbourhood_group_cleansed', 'room_type', 'accommodates',\n",
       "       'bathrooms', 'bedrooms', 'beds', 'price', 'has_availability',\n",
       "       'availability_30', 'availability_60', 'availability_90',\n",
       "       'availability_365', 'number_of_reviews', 'number_of_reviews_ltm',\n",
       "       'number_of_reviews_l30d', 'review_scores_rating',\n",
       "       'review_scores_cleanliness', 'review_scores_checkin',\n",
       "       'review_scores_communication', 'review_scores_location',\n",
       "       'review_scores_value', 'instant_bookable',\n",
       "       'calculated_host_listings_count',\n",
       "       'calculated_host_listings_count_entire_homes',\n",
       "       'calculated_host_listings_count_private_rooms',\n",
       "       'calculated_host_listings_count_shared_rooms', 'reviews_per_month',\n",
       "       'n_host_verifications'],\n",
       "      dtype='object')"
      ]
     },
     "execution_count": 22,
     "metadata": {},
     "output_type": "execute_result"
    }
   ],
   "source": [
    "df_rate.columns"
   ]
  },
  {
   "cell_type": "code",
   "execution_count": 23,
   "id": "b839c146",
   "metadata": {},
   "outputs": [],
   "source": [
    "df_rate.rename(columns = {'neighbourhood_group_cleansed':'neighborhood'}, inplace = True)"
   ]
  },
  {
   "cell_type": "code",
   "execution_count": 24,
   "id": "0cc978b3",
   "metadata": {},
   "outputs": [
    {
     "data": {
      "text/plain": [
       "Index(['host_response_rate', 'host_is_superhost', 'host_listings_count',\n",
       "       'neighborhood', 'room_type', 'accommodates', 'bathrooms', 'bedrooms',\n",
       "       'beds', 'price', 'has_availability', 'availability_30',\n",
       "       'availability_60', 'availability_90', 'availability_365',\n",
       "       'number_of_reviews', 'number_of_reviews_ltm', 'number_of_reviews_l30d',\n",
       "       'review_scores_rating', 'review_scores_cleanliness',\n",
       "       'review_scores_checkin', 'review_scores_communication',\n",
       "       'review_scores_location', 'review_scores_value', 'instant_bookable',\n",
       "       'calculated_host_listings_count',\n",
       "       'calculated_host_listings_count_entire_homes',\n",
       "       'calculated_host_listings_count_private_rooms',\n",
       "       'calculated_host_listings_count_shared_rooms', 'reviews_per_month',\n",
       "       'n_host_verifications'],\n",
       "      dtype='object')"
      ]
     },
     "execution_count": 24,
     "metadata": {},
     "output_type": "execute_result"
    }
   ],
   "source": [
    "df_rate.columns"
   ]
  },
  {
   "cell_type": "markdown",
   "id": "23cbf72e",
   "metadata": {},
   "source": [
    "### Now we're going to proceed with cleaning our selected columns:"
   ]
  },
  {
   "cell_type": "markdown",
   "id": "7a48c317",
   "metadata": {},
   "source": [
    "## <b>Finding NaN values within columns</b>\n",
    ">>  ### <font color = #5DADE2> then we'll fill it with mean values \n",
    ">>  ### <font color = E53CDA> You could also drop rows with NaN values"
   ]
  },
  {
   "cell_type": "code",
   "execution_count": 25,
   "id": "3aa5ebea",
   "metadata": {},
   "outputs": [
    {
     "data": {
      "text/plain": [
       "host_response_rate                              11843\n",
       "host_is_superhost                                   0\n",
       "host_listings_count                                 0\n",
       "neighborhood                                        0\n",
       "room_type                                           0\n",
       "accommodates                                        0\n",
       "bathrooms                                           0\n",
       "bedrooms                                         2918\n",
       "beds                                             1354\n",
       "price                                               0\n",
       "has_availability                                    0\n",
       "availability_30                                     0\n",
       "availability_60                                     0\n",
       "availability_90                                     0\n",
       "availability_365                                    0\n",
       "number_of_reviews                                   0\n",
       "number_of_reviews_ltm                               0\n",
       "number_of_reviews_l30d                              0\n",
       "review_scores_rating                                0\n",
       "review_scores_cleanliness                           0\n",
       "review_scores_checkin                               0\n",
       "review_scores_communication                         0\n",
       "review_scores_location                              0\n",
       "review_scores_value                                 0\n",
       "instant_bookable                                    0\n",
       "calculated_host_listings_count                      0\n",
       "calculated_host_listings_count_entire_homes         0\n",
       "calculated_host_listings_count_private_rooms        0\n",
       "calculated_host_listings_count_shared_rooms         0\n",
       "reviews_per_month                                   0\n",
       "n_host_verifications                                0\n",
       "dtype: int64"
      ]
     },
     "execution_count": 25,
     "metadata": {},
     "output_type": "execute_result"
    }
   ],
   "source": [
    "nan_count = df_rate.isnull().sum()\n",
    "nan_count\n",
    "#nan = df_rate.isnull().any()\n",
    "#nan\n",
    "#nan_count_df_rate = np.sum(df_rate.isnull(), axis = 0)\n",
    "#nan_count_df_rate"
   ]
  },
  {
   "cell_type": "code",
   "execution_count": 26,
   "id": "fb0ff9bb",
   "metadata": {},
   "outputs": [
    {
     "data": {
      "text/plain": [
       "['host_response_rate', 'bedrooms', 'beds']"
      ]
     },
     "execution_count": 26,
     "metadata": {},
     "output_type": "execute_result"
    }
   ],
   "source": [
    "df_rate.columns[df_rate.isna().any()].tolist()"
   ]
  },
  {
   "cell_type": "code",
   "execution_count": 27,
   "id": "389e7d31",
   "metadata": {},
   "outputs": [
    {
     "data": {
      "text/html": [
       "<div>\n",
       "<style scoped>\n",
       "    .dataframe tbody tr th:only-of-type {\n",
       "        vertical-align: middle;\n",
       "    }\n",
       "\n",
       "    .dataframe tbody tr th {\n",
       "        vertical-align: top;\n",
       "    }\n",
       "\n",
       "    .dataframe thead th {\n",
       "        text-align: right;\n",
       "    }\n",
       "</style>\n",
       "<table border=\"1\" class=\"dataframe\">\n",
       "  <thead>\n",
       "    <tr style=\"text-align: right;\">\n",
       "      <th></th>\n",
       "      <th>host_response_rate</th>\n",
       "      <th>host_is_superhost</th>\n",
       "      <th>host_listings_count</th>\n",
       "      <th>neighborhood</th>\n",
       "      <th>room_type</th>\n",
       "      <th>accommodates</th>\n",
       "      <th>bathrooms</th>\n",
       "      <th>bedrooms</th>\n",
       "      <th>beds</th>\n",
       "      <th>price</th>\n",
       "      <th>...</th>\n",
       "      <th>review_scores_communication</th>\n",
       "      <th>review_scores_location</th>\n",
       "      <th>review_scores_value</th>\n",
       "      <th>instant_bookable</th>\n",
       "      <th>calculated_host_listings_count</th>\n",
       "      <th>calculated_host_listings_count_entire_homes</th>\n",
       "      <th>calculated_host_listings_count_private_rooms</th>\n",
       "      <th>calculated_host_listings_count_shared_rooms</th>\n",
       "      <th>reviews_per_month</th>\n",
       "      <th>n_host_verifications</th>\n",
       "    </tr>\n",
       "  </thead>\n",
       "  <tbody>\n",
       "    <tr>\n",
       "      <th>0</th>\n",
       "      <td>0.8</td>\n",
       "      <td>True</td>\n",
       "      <td>8.0</td>\n",
       "      <td>Manhattan</td>\n",
       "      <td>Entire home/apt</td>\n",
       "      <td>1</td>\n",
       "      <td>1.0</td>\n",
       "      <td>NaN</td>\n",
       "      <td>1.0</td>\n",
       "      <td>150.0</td>\n",
       "      <td>...</td>\n",
       "      <td>4.79</td>\n",
       "      <td>4.86</td>\n",
       "      <td>4.41</td>\n",
       "      <td>False</td>\n",
       "      <td>3</td>\n",
       "      <td>3</td>\n",
       "      <td>0</td>\n",
       "      <td>0</td>\n",
       "      <td>0.33</td>\n",
       "      <td>9</td>\n",
       "    </tr>\n",
       "    <tr>\n",
       "      <th>6</th>\n",
       "      <td>1.0</td>\n",
       "      <td>True</td>\n",
       "      <td>1.0</td>\n",
       "      <td>Brooklyn</td>\n",
       "      <td>Entire home/apt</td>\n",
       "      <td>3</td>\n",
       "      <td>1.0</td>\n",
       "      <td>NaN</td>\n",
       "      <td>1.0</td>\n",
       "      <td>89.0</td>\n",
       "      <td>...</td>\n",
       "      <td>4.80</td>\n",
       "      <td>4.67</td>\n",
       "      <td>4.57</td>\n",
       "      <td>True</td>\n",
       "      <td>1</td>\n",
       "      <td>1</td>\n",
       "      <td>0</td>\n",
       "      <td>0</td>\n",
       "      <td>1.24</td>\n",
       "      <td>7</td>\n",
       "    </tr>\n",
       "    <tr>\n",
       "      <th>10</th>\n",
       "      <td>1.0</td>\n",
       "      <td>True</td>\n",
       "      <td>4.0</td>\n",
       "      <td>Brooklyn</td>\n",
       "      <td>Entire home/apt</td>\n",
       "      <td>4</td>\n",
       "      <td>1.0</td>\n",
       "      <td>NaN</td>\n",
       "      <td>2.0</td>\n",
       "      <td>299.0</td>\n",
       "      <td>...</td>\n",
       "      <td>4.60</td>\n",
       "      <td>5.00</td>\n",
       "      <td>4.80</td>\n",
       "      <td>False</td>\n",
       "      <td>1</td>\n",
       "      <td>1</td>\n",
       "      <td>0</td>\n",
       "      <td>0</td>\n",
       "      <td>0.06</td>\n",
       "      <td>4</td>\n",
       "    </tr>\n",
       "    <tr>\n",
       "      <th>12</th>\n",
       "      <td>0.0</td>\n",
       "      <td>True</td>\n",
       "      <td>1.0</td>\n",
       "      <td>Manhattan</td>\n",
       "      <td>Entire home/apt</td>\n",
       "      <td>2</td>\n",
       "      <td>1.0</td>\n",
       "      <td>NaN</td>\n",
       "      <td>1.0</td>\n",
       "      <td>175.0</td>\n",
       "      <td>...</td>\n",
       "      <td>5.00</td>\n",
       "      <td>4.95</td>\n",
       "      <td>4.58</td>\n",
       "      <td>False</td>\n",
       "      <td>1</td>\n",
       "      <td>1</td>\n",
       "      <td>0</td>\n",
       "      <td>0</td>\n",
       "      <td>0.55</td>\n",
       "      <td>4</td>\n",
       "    </tr>\n",
       "    <tr>\n",
       "      <th>59</th>\n",
       "      <td>1.0</td>\n",
       "      <td>True</td>\n",
       "      <td>1.0</td>\n",
       "      <td>Manhattan</td>\n",
       "      <td>Entire home/apt</td>\n",
       "      <td>3</td>\n",
       "      <td>1.0</td>\n",
       "      <td>NaN</td>\n",
       "      <td>2.0</td>\n",
       "      <td>100.0</td>\n",
       "      <td>...</td>\n",
       "      <td>4.89</td>\n",
       "      <td>4.79</td>\n",
       "      <td>4.74</td>\n",
       "      <td>False</td>\n",
       "      <td>1</td>\n",
       "      <td>1</td>\n",
       "      <td>0</td>\n",
       "      <td>0</td>\n",
       "      <td>0.20</td>\n",
       "      <td>6</td>\n",
       "    </tr>\n",
       "  </tbody>\n",
       "</table>\n",
       "<p>5 rows × 31 columns</p>\n",
       "</div>"
      ],
      "text/plain": [
       "    host_response_rate  host_is_superhost  host_listings_count neighborhood  \\\n",
       "0                  0.8               True                  8.0    Manhattan   \n",
       "6                  1.0               True                  1.0     Brooklyn   \n",
       "10                 1.0               True                  4.0     Brooklyn   \n",
       "12                 0.0               True                  1.0    Manhattan   \n",
       "59                 1.0               True                  1.0    Manhattan   \n",
       "\n",
       "          room_type  accommodates  bathrooms  bedrooms  beds  price  ...  \\\n",
       "0   Entire home/apt             1        1.0       NaN   1.0  150.0  ...   \n",
       "6   Entire home/apt             3        1.0       NaN   1.0   89.0  ...   \n",
       "10  Entire home/apt             4        1.0       NaN   2.0  299.0  ...   \n",
       "12  Entire home/apt             2        1.0       NaN   1.0  175.0  ...   \n",
       "59  Entire home/apt             3        1.0       NaN   2.0  100.0  ...   \n",
       "\n",
       "    review_scores_communication  review_scores_location  review_scores_value  \\\n",
       "0                          4.79                    4.86                 4.41   \n",
       "6                          4.80                    4.67                 4.57   \n",
       "10                         4.60                    5.00                 4.80   \n",
       "12                         5.00                    4.95                 4.58   \n",
       "59                         4.89                    4.79                 4.74   \n",
       "\n",
       "    instant_bookable  calculated_host_listings_count  \\\n",
       "0              False                               3   \n",
       "6               True                               1   \n",
       "10             False                               1   \n",
       "12             False                               1   \n",
       "59             False                               1   \n",
       "\n",
       "    calculated_host_listings_count_entire_homes  \\\n",
       "0                                             3   \n",
       "6                                             1   \n",
       "10                                            1   \n",
       "12                                            1   \n",
       "59                                            1   \n",
       "\n",
       "    calculated_host_listings_count_private_rooms  \\\n",
       "0                                              0   \n",
       "6                                              0   \n",
       "10                                             0   \n",
       "12                                             0   \n",
       "59                                             0   \n",
       "\n",
       "    calculated_host_listings_count_shared_rooms  reviews_per_month  \\\n",
       "0                                             0               0.33   \n",
       "6                                             0               1.24   \n",
       "10                                            0               0.06   \n",
       "12                                            0               0.55   \n",
       "59                                            0               0.20   \n",
       "\n",
       "    n_host_verifications  \n",
       "0                      9  \n",
       "6                      7  \n",
       "10                     4  \n",
       "12                     4  \n",
       "59                     6  \n",
       "\n",
       "[5 rows x 31 columns]"
      ]
     },
     "execution_count": 27,
     "metadata": {},
     "output_type": "execute_result"
    }
   ],
   "source": [
    "df_rate.loc[df_rate['bedrooms'].isnull()].head()\n",
    "# df.dropna( ): This function is used to remove a row or a column from a dataframe that has a NaN or missing values in it.\n",
    "#df.isna( ): This function returns a dataframe filled with boolean values with true indicating missing values.\n",
    "#df.duplicated( ):  Returns a boolean Series denoting duplicate rows.\n",
    "#df['sex'].value_counts( ):\n",
    "#df.corr( ): This function is used to find the pairwise correlation of all columns in the dataframe."
   ]
  },
  {
   "cell_type": "code",
   "execution_count": 28,
   "id": "20f108d4",
   "metadata": {},
   "outputs": [
    {
     "name": "stdout",
     "output_type": "stream",
     "text": [
      "Row 0:  nan\n",
      "Row 0:  1.3297084130019121\n"
     ]
    }
   ],
   "source": [
    "# compute mean for all non null age values\n",
    "mean =df_rate['host_response_rate'].mean()\n",
    "df_rate['host_response_rate'].fillna(value=mean, inplace=True)\n",
    "\n",
    "print(\"Row 0:  \" + str(df_rate['bedrooms'][0]))\n",
    "mean_berooms =df_rate['bedrooms'].mean()\n",
    "df_rate['bedrooms'].fillna(value=mean_berooms, inplace=True)\n",
    "\n",
    "print(\"Row 0:  \" + str(df_rate['bedrooms'][0]))\n",
    "\n",
    "mean_beds= df_rate['beds'].mean()\n",
    "df_rate['beds'].fillna(value=mean_beds, inplace=True)"
   ]
  },
  {
   "cell_type": "code",
   "execution_count": 29,
   "id": "2ba34c18",
   "metadata": {},
   "outputs": [
    {
     "data": {
      "text/plain": [
       "host_response_rate                              0\n",
       "host_is_superhost                               0\n",
       "host_listings_count                             0\n",
       "neighborhood                                    0\n",
       "room_type                                       0\n",
       "accommodates                                    0\n",
       "bathrooms                                       0\n",
       "bedrooms                                        0\n",
       "beds                                            0\n",
       "price                                           0\n",
       "has_availability                                0\n",
       "availability_30                                 0\n",
       "availability_60                                 0\n",
       "availability_90                                 0\n",
       "availability_365                                0\n",
       "number_of_reviews                               0\n",
       "number_of_reviews_ltm                           0\n",
       "number_of_reviews_l30d                          0\n",
       "review_scores_rating                            0\n",
       "review_scores_cleanliness                       0\n",
       "review_scores_checkin                           0\n",
       "review_scores_communication                     0\n",
       "review_scores_location                          0\n",
       "review_scores_value                             0\n",
       "instant_bookable                                0\n",
       "calculated_host_listings_count                  0\n",
       "calculated_host_listings_count_entire_homes     0\n",
       "calculated_host_listings_count_private_rooms    0\n",
       "calculated_host_listings_count_shared_rooms     0\n",
       "reviews_per_month                               0\n",
       "n_host_verifications                            0\n",
       "dtype: int64"
      ]
     },
     "execution_count": 29,
     "metadata": {},
     "output_type": "execute_result"
    }
   ],
   "source": [
    "nan_count_df_rate_after = np.sum(df_rate.isnull(), axis = 0)\n",
    "nan_count_df_rate_after"
   ]
  },
  {
   "cell_type": "code",
   "execution_count": 30,
   "id": "2958cb2e",
   "metadata": {},
   "outputs": [
    {
     "data": {
      "text/plain": [
       "[]"
      ]
     },
     "execution_count": 30,
     "metadata": {},
     "output_type": "execute_result"
    }
   ],
   "source": [
    "df_rate.columns[df_rate.isna().any()].tolist()"
   ]
  },
  {
   "cell_type": "markdown",
   "id": "18ab7d7c",
   "metadata": {},
   "source": [
    "## <b>One Hot Encoding</b>"
   ]
  },
  {
   "cell_type": "code",
   "execution_count": 31,
   "id": "d4751a3c",
   "metadata": {},
   "outputs": [
    {
     "data": {
      "text/plain": [
       "['neighborhood', 'room_type']"
      ]
     },
     "execution_count": 31,
     "metadata": {},
     "output_type": "execute_result"
    }
   ],
   "source": [
    "objects = list(df_rate.select_dtypes(['object']))\n",
    "objects"
   ]
  },
  {
   "cell_type": "code",
   "execution_count": 32,
   "id": "ef0ba6da",
   "metadata": {},
   "outputs": [
    {
     "name": "stdout",
     "output_type": "stream",
     "text": [
      "The scikit-learn version is 1.3.0.\n"
     ]
    }
   ],
   "source": [
    "import sklearn\n",
    "print('The scikit-learn version is {}.'.format(sklearn.__version__))"
   ]
  },
  {
   "cell_type": "code",
   "execution_count": 33,
   "id": "fa0d7f34",
   "metadata": {},
   "outputs": [],
   "source": [
    "from sklearn.preprocessing import OneHotEncoder\n",
    "\n",
    "# Create the encoder:\n",
    "encoder = OneHotEncoder(handle_unknown=\"error\", sparse_output=False)\n",
    "\n",
    "# Fit and transform the encoder:\n",
    "encoded_data = encoder.fit_transform(df_rate[['neighborhood', 'room_type']])\n",
    "\n",
    "# Get the column names\n",
    "category_names = encoder.get_feature_names_out(input_features=['neighborhood', 'room_type'])\n",
    "\n",
    "# Create a DataFrame with the one-hot encoded data and set column names\n",
    "df_enc = pd.DataFrame(encoded_data, columns=category_names)"
   ]
  },
  {
   "cell_type": "code",
   "execution_count": 34,
   "id": "c4b42131",
   "metadata": {},
   "outputs": [
    {
     "name": "stdout",
     "output_type": "stream",
     "text": [
      "5\n"
     ]
    },
    {
     "data": {
      "text/plain": [
       "4"
      ]
     },
     "execution_count": 34,
     "metadata": {},
     "output_type": "execute_result"
    }
   ],
   "source": [
    "print(df_rate['neighborhood'].nunique())\n",
    "df_rate['room_type'].nunique()"
   ]
  },
  {
   "cell_type": "code",
   "execution_count": 35,
   "id": "65ca5974",
   "metadata": {},
   "outputs": [
    {
     "data": {
      "text/html": [
       "<div>\n",
       "<style scoped>\n",
       "    .dataframe tbody tr th:only-of-type {\n",
       "        vertical-align: middle;\n",
       "    }\n",
       "\n",
       "    .dataframe tbody tr th {\n",
       "        vertical-align: top;\n",
       "    }\n",
       "\n",
       "    .dataframe thead th {\n",
       "        text-align: right;\n",
       "    }\n",
       "</style>\n",
       "<table border=\"1\" class=\"dataframe\">\n",
       "  <thead>\n",
       "    <tr style=\"text-align: right;\">\n",
       "      <th></th>\n",
       "      <th>neighborhood_Bronx</th>\n",
       "      <th>neighborhood_Brooklyn</th>\n",
       "      <th>neighborhood_Manhattan</th>\n",
       "      <th>neighborhood_Queens</th>\n",
       "      <th>neighborhood_Staten Island</th>\n",
       "      <th>room_type_Entire home/apt</th>\n",
       "      <th>room_type_Hotel room</th>\n",
       "      <th>room_type_Private room</th>\n",
       "      <th>room_type_Shared room</th>\n",
       "    </tr>\n",
       "  </thead>\n",
       "  <tbody>\n",
       "    <tr>\n",
       "      <th>0</th>\n",
       "      <td>0.0</td>\n",
       "      <td>0.0</td>\n",
       "      <td>1.0</td>\n",
       "      <td>0.0</td>\n",
       "      <td>0.0</td>\n",
       "      <td>1.0</td>\n",
       "      <td>0.0</td>\n",
       "      <td>0.0</td>\n",
       "      <td>0.0</td>\n",
       "    </tr>\n",
       "    <tr>\n",
       "      <th>1</th>\n",
       "      <td>0.0</td>\n",
       "      <td>1.0</td>\n",
       "      <td>0.0</td>\n",
       "      <td>0.0</td>\n",
       "      <td>0.0</td>\n",
       "      <td>1.0</td>\n",
       "      <td>0.0</td>\n",
       "      <td>0.0</td>\n",
       "      <td>0.0</td>\n",
       "    </tr>\n",
       "    <tr>\n",
       "      <th>2</th>\n",
       "      <td>0.0</td>\n",
       "      <td>1.0</td>\n",
       "      <td>0.0</td>\n",
       "      <td>0.0</td>\n",
       "      <td>0.0</td>\n",
       "      <td>1.0</td>\n",
       "      <td>0.0</td>\n",
       "      <td>0.0</td>\n",
       "      <td>0.0</td>\n",
       "    </tr>\n",
       "    <tr>\n",
       "      <th>3</th>\n",
       "      <td>0.0</td>\n",
       "      <td>0.0</td>\n",
       "      <td>1.0</td>\n",
       "      <td>0.0</td>\n",
       "      <td>0.0</td>\n",
       "      <td>0.0</td>\n",
       "      <td>0.0</td>\n",
       "      <td>1.0</td>\n",
       "      <td>0.0</td>\n",
       "    </tr>\n",
       "    <tr>\n",
       "      <th>4</th>\n",
       "      <td>0.0</td>\n",
       "      <td>0.0</td>\n",
       "      <td>1.0</td>\n",
       "      <td>0.0</td>\n",
       "      <td>0.0</td>\n",
       "      <td>0.0</td>\n",
       "      <td>0.0</td>\n",
       "      <td>1.0</td>\n",
       "      <td>0.0</td>\n",
       "    </tr>\n",
       "  </tbody>\n",
       "</table>\n",
       "</div>"
      ],
      "text/plain": [
       "   neighborhood_Bronx  neighborhood_Brooklyn  neighborhood_Manhattan  \\\n",
       "0                 0.0                    0.0                     1.0   \n",
       "1                 0.0                    1.0                     0.0   \n",
       "2                 0.0                    1.0                     0.0   \n",
       "3                 0.0                    0.0                     1.0   \n",
       "4                 0.0                    0.0                     1.0   \n",
       "\n",
       "   neighborhood_Queens  neighborhood_Staten Island  room_type_Entire home/apt  \\\n",
       "0                  0.0                         0.0                        1.0   \n",
       "1                  0.0                         0.0                        1.0   \n",
       "2                  0.0                         0.0                        1.0   \n",
       "3                  0.0                         0.0                        0.0   \n",
       "4                  0.0                         0.0                        0.0   \n",
       "\n",
       "   room_type_Hotel room  room_type_Private room  room_type_Shared room  \n",
       "0                   0.0                     0.0                    0.0  \n",
       "1                   0.0                     0.0                    0.0  \n",
       "2                   0.0                     0.0                    0.0  \n",
       "3                   0.0                     1.0                    0.0  \n",
       "4                   0.0                     1.0                    0.0  "
      ]
     },
     "execution_count": 35,
     "metadata": {},
     "output_type": "execute_result"
    }
   ],
   "source": [
    "df_enc.head()\n",
    "#the two columns are encoded\n",
    "#YIPPIEE"
   ]
  },
  {
   "cell_type": "code",
   "execution_count": 36,
   "id": "6f2cb401",
   "metadata": {},
   "outputs": [
    {
     "data": {
      "text/plain": [
       "(28022, 31)"
      ]
     },
     "execution_count": 36,
     "metadata": {},
     "output_type": "execute_result"
    }
   ],
   "source": [
    "df_rate.shape"
   ]
  },
  {
   "cell_type": "code",
   "execution_count": 37,
   "id": "fa8fa64e",
   "metadata": {},
   "outputs": [],
   "source": [
    "df_rate = df_rate.join(df_enc)\n",
    "\n",
    "# Remove the original categorical features from X_train and X_test:\n",
    "df_rate = df_rate.drop(columns = ['neighborhood','room_type'] ,axis=1)"
   ]
  },
  {
   "cell_type": "code",
   "execution_count": 38,
   "id": "a6c2c576",
   "metadata": {},
   "outputs": [
    {
     "data": {
      "text/plain": [
       "(28022, 38)"
      ]
     },
     "execution_count": 38,
     "metadata": {},
     "output_type": "execute_result"
    }
   ],
   "source": [
    "df_rate.shape"
   ]
  },
  {
   "cell_type": "code",
   "execution_count": 39,
   "id": "cf4e37d7",
   "metadata": {},
   "outputs": [
    {
     "data": {
      "text/plain": [
       "[]"
      ]
     },
     "execution_count": 39,
     "metadata": {},
     "output_type": "execute_result"
    }
   ],
   "source": [
    "list(df_rate.select_dtypes(['object']))\n",
    "#ayyy no object data types we good on that front"
   ]
  },
  {
   "cell_type": "markdown",
   "id": "4e64f401",
   "metadata": {},
   "source": [
    "## <b> <font color= FD8826> Winsorization</b> </font>\n",
    ">> ### transformation of statistics by limiting extreme values in the statistical data to reduce the effect of possibly spurious outliers"
   ]
  },
  {
   "cell_type": "code",
   "execution_count": 40,
   "id": "17d35033",
   "metadata": {},
   "outputs": [
    {
     "data": {
      "text/plain": [
       "296.0"
      ]
     },
     "execution_count": 40,
     "metadata": {},
     "output_type": "execute_result"
    }
   ],
   "source": [
    "price_90 = np.percentile(df_rate['price'], 90)\n",
    "price_90"
   ]
  },
  {
   "cell_type": "markdown",
   "id": "ef4dc4f1",
   "metadata": {},
   "source": [
    "### We're only going to Winsorize Price column"
   ]
  },
  {
   "cell_type": "code",
   "execution_count": 41,
   "id": "2c7d1c62",
   "metadata": {},
   "outputs": [
    {
     "data": {
      "text/plain": [
       "0        False\n",
       "1        False\n",
       "2        False\n",
       "3        False\n",
       "4        False\n",
       "         ...  \n",
       "28017    False\n",
       "28018     True\n",
       "28019    False\n",
       "28020    False\n",
       "28021    False\n",
       "Name: price, Length: 28022, dtype: bool"
      ]
     },
     "execution_count": 41,
     "metadata": {},
     "output_type": "execute_result"
    }
   ],
   "source": [
    "df_rate['price'] > 296"
   ]
  },
  {
   "cell_type": "code",
   "execution_count": 42,
   "id": "f9a4243d",
   "metadata": {},
   "outputs": [
    {
     "data": {
      "text/plain": [
       "1000.0"
      ]
     },
     "execution_count": 42,
     "metadata": {},
     "output_type": "execute_result"
    }
   ],
   "source": [
    "df_rate.loc[28018,'price']"
   ]
  },
  {
   "cell_type": "code",
   "execution_count": 43,
   "id": "169907a8",
   "metadata": {},
   "outputs": [
    {
     "data": {
      "text/html": [
       "<div>\n",
       "<style scoped>\n",
       "    .dataframe tbody tr th:only-of-type {\n",
       "        vertical-align: middle;\n",
       "    }\n",
       "\n",
       "    .dataframe tbody tr th {\n",
       "        vertical-align: top;\n",
       "    }\n",
       "\n",
       "    .dataframe thead th {\n",
       "        text-align: right;\n",
       "    }\n",
       "</style>\n",
       "<table border=\"1\" class=\"dataframe\">\n",
       "  <thead>\n",
       "    <tr style=\"text-align: right;\">\n",
       "      <th></th>\n",
       "      <th>host_response_rate</th>\n",
       "      <th>host_is_superhost</th>\n",
       "      <th>host_listings_count</th>\n",
       "      <th>accommodates</th>\n",
       "      <th>bathrooms</th>\n",
       "      <th>bedrooms</th>\n",
       "      <th>beds</th>\n",
       "      <th>price</th>\n",
       "      <th>has_availability</th>\n",
       "      <th>availability_30</th>\n",
       "      <th>...</th>\n",
       "      <th>n_host_verifications</th>\n",
       "      <th>neighborhood_Bronx</th>\n",
       "      <th>neighborhood_Brooklyn</th>\n",
       "      <th>neighborhood_Manhattan</th>\n",
       "      <th>neighborhood_Queens</th>\n",
       "      <th>neighborhood_Staten Island</th>\n",
       "      <th>room_type_Entire home/apt</th>\n",
       "      <th>room_type_Hotel room</th>\n",
       "      <th>room_type_Private room</th>\n",
       "      <th>room_type_Shared room</th>\n",
       "    </tr>\n",
       "  </thead>\n",
       "  <tbody>\n",
       "    <tr>\n",
       "      <th>28017</th>\n",
       "      <td>1.000000</td>\n",
       "      <td>True</td>\n",
       "      <td>8.0</td>\n",
       "      <td>2</td>\n",
       "      <td>1.0</td>\n",
       "      <td>1.0</td>\n",
       "      <td>1.0</td>\n",
       "      <td>89.0</td>\n",
       "      <td>True</td>\n",
       "      <td>17</td>\n",
       "      <td>...</td>\n",
       "      <td>2</td>\n",
       "      <td>0.0</td>\n",
       "      <td>0.0</td>\n",
       "      <td>0.0</td>\n",
       "      <td>1.0</td>\n",
       "      <td>0.0</td>\n",
       "      <td>0.0</td>\n",
       "      <td>0.0</td>\n",
       "      <td>1.0</td>\n",
       "      <td>0.0</td>\n",
       "    </tr>\n",
       "    <tr>\n",
       "      <th>28018</th>\n",
       "      <td>0.910000</td>\n",
       "      <td>True</td>\n",
       "      <td>0.0</td>\n",
       "      <td>6</td>\n",
       "      <td>1.0</td>\n",
       "      <td>2.0</td>\n",
       "      <td>2.0</td>\n",
       "      <td>899.0</td>\n",
       "      <td>True</td>\n",
       "      <td>26</td>\n",
       "      <td>...</td>\n",
       "      <td>5</td>\n",
       "      <td>0.0</td>\n",
       "      <td>1.0</td>\n",
       "      <td>0.0</td>\n",
       "      <td>0.0</td>\n",
       "      <td>0.0</td>\n",
       "      <td>1.0</td>\n",
       "      <td>0.0</td>\n",
       "      <td>0.0</td>\n",
       "      <td>0.0</td>\n",
       "    </tr>\n",
       "    <tr>\n",
       "      <th>28019</th>\n",
       "      <td>0.990000</td>\n",
       "      <td>True</td>\n",
       "      <td>6.0</td>\n",
       "      <td>2</td>\n",
       "      <td>2.0</td>\n",
       "      <td>1.0</td>\n",
       "      <td>1.0</td>\n",
       "      <td>64.0</td>\n",
       "      <td>True</td>\n",
       "      <td>29</td>\n",
       "      <td>...</td>\n",
       "      <td>2</td>\n",
       "      <td>0.0</td>\n",
       "      <td>1.0</td>\n",
       "      <td>0.0</td>\n",
       "      <td>0.0</td>\n",
       "      <td>0.0</td>\n",
       "      <td>0.0</td>\n",
       "      <td>0.0</td>\n",
       "      <td>1.0</td>\n",
       "      <td>0.0</td>\n",
       "    </tr>\n",
       "    <tr>\n",
       "      <th>28020</th>\n",
       "      <td>0.900000</td>\n",
       "      <td>True</td>\n",
       "      <td>3.0</td>\n",
       "      <td>3</td>\n",
       "      <td>1.0</td>\n",
       "      <td>1.0</td>\n",
       "      <td>2.0</td>\n",
       "      <td>84.0</td>\n",
       "      <td>True</td>\n",
       "      <td>11</td>\n",
       "      <td>...</td>\n",
       "      <td>7</td>\n",
       "      <td>0.0</td>\n",
       "      <td>1.0</td>\n",
       "      <td>0.0</td>\n",
       "      <td>0.0</td>\n",
       "      <td>0.0</td>\n",
       "      <td>1.0</td>\n",
       "      <td>0.0</td>\n",
       "      <td>0.0</td>\n",
       "      <td>0.0</td>\n",
       "    </tr>\n",
       "    <tr>\n",
       "      <th>28021</th>\n",
       "      <td>0.906901</td>\n",
       "      <td>True</td>\n",
       "      <td>0.0</td>\n",
       "      <td>1</td>\n",
       "      <td>1.0</td>\n",
       "      <td>1.0</td>\n",
       "      <td>1.0</td>\n",
       "      <td>70.0</td>\n",
       "      <td>True</td>\n",
       "      <td>20</td>\n",
       "      <td>...</td>\n",
       "      <td>1</td>\n",
       "      <td>0.0</td>\n",
       "      <td>0.0</td>\n",
       "      <td>0.0</td>\n",
       "      <td>1.0</td>\n",
       "      <td>0.0</td>\n",
       "      <td>0.0</td>\n",
       "      <td>0.0</td>\n",
       "      <td>1.0</td>\n",
       "      <td>0.0</td>\n",
       "    </tr>\n",
       "  </tbody>\n",
       "</table>\n",
       "<p>5 rows × 38 columns</p>\n",
       "</div>"
      ],
      "text/plain": [
       "       host_response_rate  host_is_superhost  host_listings_count  \\\n",
       "28017            1.000000               True                  8.0   \n",
       "28018            0.910000               True                  0.0   \n",
       "28019            0.990000               True                  6.0   \n",
       "28020            0.900000               True                  3.0   \n",
       "28021            0.906901               True                  0.0   \n",
       "\n",
       "       accommodates  bathrooms  bedrooms  beds  price  has_availability  \\\n",
       "28017             2        1.0       1.0   1.0   89.0              True   \n",
       "28018             6        1.0       2.0   2.0  899.0              True   \n",
       "28019             2        2.0       1.0   1.0   64.0              True   \n",
       "28020             3        1.0       1.0   2.0   84.0              True   \n",
       "28021             1        1.0       1.0   1.0   70.0              True   \n",
       "\n",
       "       availability_30  ...  n_host_verifications  neighborhood_Bronx  \\\n",
       "28017               17  ...                     2                 0.0   \n",
       "28018               26  ...                     5                 0.0   \n",
       "28019               29  ...                     2                 0.0   \n",
       "28020               11  ...                     7                 0.0   \n",
       "28021               20  ...                     1                 0.0   \n",
       "\n",
       "       neighborhood_Brooklyn  neighborhood_Manhattan  neighborhood_Queens  \\\n",
       "28017                    0.0                     0.0                  1.0   \n",
       "28018                    1.0                     0.0                  0.0   \n",
       "28019                    1.0                     0.0                  0.0   \n",
       "28020                    1.0                     0.0                  0.0   \n",
       "28021                    0.0                     0.0                  1.0   \n",
       "\n",
       "       neighborhood_Staten Island  room_type_Entire home/apt  \\\n",
       "28017                         0.0                        0.0   \n",
       "28018                         0.0                        1.0   \n",
       "28019                         0.0                        0.0   \n",
       "28020                         0.0                        1.0   \n",
       "28021                         0.0                        0.0   \n",
       "\n",
       "       room_type_Hotel room  room_type_Private room  room_type_Shared room  \n",
       "28017                   0.0                     1.0                    0.0  \n",
       "28018                   0.0                     0.0                    0.0  \n",
       "28019                   0.0                     1.0                    0.0  \n",
       "28020                   0.0                     0.0                    0.0  \n",
       "28021                   0.0                     1.0                    0.0  \n",
       "\n",
       "[5 rows x 38 columns]"
      ]
     },
     "execution_count": 43,
     "metadata": {},
     "output_type": "execute_result"
    }
   ],
   "source": [
    "import scipy.stats as stats\n",
    "df_rate['price'] = stats.mstats.winsorize(df_rate['price'], limits=[0.01, 0.01])\n",
    "df_rate.tail(5)"
   ]
  },
  {
   "cell_type": "code",
   "execution_count": 44,
   "id": "b30b3722",
   "metadata": {},
   "outputs": [
    {
     "data": {
      "text/plain": [
       "899.0"
      ]
     },
     "execution_count": 44,
     "metadata": {},
     "output_type": "execute_result"
    }
   ],
   "source": [
    "df_rate.loc[28018,'price']"
   ]
  },
  {
   "cell_type": "markdown",
   "id": "44a5a6b4",
   "metadata": {},
   "source": [
    "### <font color=skyblue> Data is clean and we're ready to roll </font>"
   ]
  },
  {
   "cell_type": "markdown",
   "id": "cb655aea",
   "metadata": {},
   "source": [
    "# Part 3: Time to build and train our models"
   ]
  },
  {
   "cell_type": "code",
   "execution_count": 45,
   "id": "7410cbba",
   "metadata": {},
   "outputs": [],
   "source": [
    "from sklearn.model_selection import train_test_split, GridSearchCV\n",
    "from sklearn.metrics import mean_squared_error, r2_score\n",
    "\n",
    "from sklearn.tree import DecisionTreeClassifier\n",
    "from sklearn.model_selection import cross_val_score\n",
    "from sklearn.metrics import accuracy_score\n",
    "\n",
    "from sklearn.linear_model import LogisticRegression\n",
    "from sklearn.metrics import log_loss\n",
    "\n",
    "from sklearn.ensemble import GradientBoostingRegressor\n",
    "\n",
    "from sklearn.ensemble import RandomForestRegressor\n",
    "\n",
    "from sklearn.tree import DecisionTreeRegressor"
   ]
  },
  {
   "cell_type": "code",
   "execution_count": 46,
   "id": "c7adaec7",
   "metadata": {},
   "outputs": [
    {
     "data": {
      "text/html": [
       "<div>\n",
       "<style scoped>\n",
       "    .dataframe tbody tr th:only-of-type {\n",
       "        vertical-align: middle;\n",
       "    }\n",
       "\n",
       "    .dataframe tbody tr th {\n",
       "        vertical-align: top;\n",
       "    }\n",
       "\n",
       "    .dataframe thead th {\n",
       "        text-align: right;\n",
       "    }\n",
       "</style>\n",
       "<table border=\"1\" class=\"dataframe\">\n",
       "  <thead>\n",
       "    <tr style=\"text-align: right;\">\n",
       "      <th></th>\n",
       "      <th>host_response_rate</th>\n",
       "      <th>host_is_superhost</th>\n",
       "      <th>host_listings_count</th>\n",
       "      <th>accommodates</th>\n",
       "      <th>bathrooms</th>\n",
       "      <th>bedrooms</th>\n",
       "      <th>beds</th>\n",
       "      <th>price</th>\n",
       "      <th>has_availability</th>\n",
       "      <th>availability_30</th>\n",
       "      <th>...</th>\n",
       "      <th>n_host_verifications</th>\n",
       "      <th>neighborhood_Bronx</th>\n",
       "      <th>neighborhood_Brooklyn</th>\n",
       "      <th>neighborhood_Manhattan</th>\n",
       "      <th>neighborhood_Queens</th>\n",
       "      <th>neighborhood_Staten Island</th>\n",
       "      <th>room_type_Entire home/apt</th>\n",
       "      <th>room_type_Hotel room</th>\n",
       "      <th>room_type_Private room</th>\n",
       "      <th>room_type_Shared room</th>\n",
       "    </tr>\n",
       "  </thead>\n",
       "  <tbody>\n",
       "    <tr>\n",
       "      <th>0</th>\n",
       "      <td>0.800000</td>\n",
       "      <td>True</td>\n",
       "      <td>8.0</td>\n",
       "      <td>1</td>\n",
       "      <td>1.0</td>\n",
       "      <td>1.329708</td>\n",
       "      <td>1.0</td>\n",
       "      <td>150.0</td>\n",
       "      <td>True</td>\n",
       "      <td>3</td>\n",
       "      <td>...</td>\n",
       "      <td>9</td>\n",
       "      <td>0.0</td>\n",
       "      <td>0.0</td>\n",
       "      <td>1.0</td>\n",
       "      <td>0.0</td>\n",
       "      <td>0.0</td>\n",
       "      <td>1.0</td>\n",
       "      <td>0.0</td>\n",
       "      <td>0.0</td>\n",
       "      <td>0.0</td>\n",
       "    </tr>\n",
       "    <tr>\n",
       "      <th>1</th>\n",
       "      <td>0.090000</td>\n",
       "      <td>True</td>\n",
       "      <td>1.0</td>\n",
       "      <td>3</td>\n",
       "      <td>1.0</td>\n",
       "      <td>1.000000</td>\n",
       "      <td>3.0</td>\n",
       "      <td>75.0</td>\n",
       "      <td>True</td>\n",
       "      <td>3</td>\n",
       "      <td>...</td>\n",
       "      <td>6</td>\n",
       "      <td>0.0</td>\n",
       "      <td>1.0</td>\n",
       "      <td>0.0</td>\n",
       "      <td>0.0</td>\n",
       "      <td>0.0</td>\n",
       "      <td>1.0</td>\n",
       "      <td>0.0</td>\n",
       "      <td>0.0</td>\n",
       "      <td>0.0</td>\n",
       "    </tr>\n",
       "    <tr>\n",
       "      <th>2</th>\n",
       "      <td>1.000000</td>\n",
       "      <td>True</td>\n",
       "      <td>1.0</td>\n",
       "      <td>4</td>\n",
       "      <td>1.5</td>\n",
       "      <td>2.000000</td>\n",
       "      <td>2.0</td>\n",
       "      <td>275.0</td>\n",
       "      <td>True</td>\n",
       "      <td>3</td>\n",
       "      <td>...</td>\n",
       "      <td>3</td>\n",
       "      <td>0.0</td>\n",
       "      <td>1.0</td>\n",
       "      <td>0.0</td>\n",
       "      <td>0.0</td>\n",
       "      <td>0.0</td>\n",
       "      <td>1.0</td>\n",
       "      <td>0.0</td>\n",
       "      <td>0.0</td>\n",
       "      <td>0.0</td>\n",
       "    </tr>\n",
       "    <tr>\n",
       "      <th>3</th>\n",
       "      <td>1.000000</td>\n",
       "      <td>True</td>\n",
       "      <td>1.0</td>\n",
       "      <td>2</td>\n",
       "      <td>1.0</td>\n",
       "      <td>1.000000</td>\n",
       "      <td>1.0</td>\n",
       "      <td>68.0</td>\n",
       "      <td>True</td>\n",
       "      <td>1</td>\n",
       "      <td>...</td>\n",
       "      <td>4</td>\n",
       "      <td>0.0</td>\n",
       "      <td>0.0</td>\n",
       "      <td>1.0</td>\n",
       "      <td>0.0</td>\n",
       "      <td>0.0</td>\n",
       "      <td>0.0</td>\n",
       "      <td>0.0</td>\n",
       "      <td>1.0</td>\n",
       "      <td>0.0</td>\n",
       "    </tr>\n",
       "    <tr>\n",
       "      <th>4</th>\n",
       "      <td>0.906901</td>\n",
       "      <td>True</td>\n",
       "      <td>1.0</td>\n",
       "      <td>1</td>\n",
       "      <td>1.0</td>\n",
       "      <td>1.000000</td>\n",
       "      <td>1.0</td>\n",
       "      <td>75.0</td>\n",
       "      <td>True</td>\n",
       "      <td>0</td>\n",
       "      <td>...</td>\n",
       "      <td>7</td>\n",
       "      <td>0.0</td>\n",
       "      <td>0.0</td>\n",
       "      <td>1.0</td>\n",
       "      <td>0.0</td>\n",
       "      <td>0.0</td>\n",
       "      <td>0.0</td>\n",
       "      <td>0.0</td>\n",
       "      <td>1.0</td>\n",
       "      <td>0.0</td>\n",
       "    </tr>\n",
       "    <tr>\n",
       "      <th>...</th>\n",
       "      <td>...</td>\n",
       "      <td>...</td>\n",
       "      <td>...</td>\n",
       "      <td>...</td>\n",
       "      <td>...</td>\n",
       "      <td>...</td>\n",
       "      <td>...</td>\n",
       "      <td>...</td>\n",
       "      <td>...</td>\n",
       "      <td>...</td>\n",
       "      <td>...</td>\n",
       "      <td>...</td>\n",
       "      <td>...</td>\n",
       "      <td>...</td>\n",
       "      <td>...</td>\n",
       "      <td>...</td>\n",
       "      <td>...</td>\n",
       "      <td>...</td>\n",
       "      <td>...</td>\n",
       "      <td>...</td>\n",
       "      <td>...</td>\n",
       "    </tr>\n",
       "    <tr>\n",
       "      <th>28017</th>\n",
       "      <td>1.000000</td>\n",
       "      <td>True</td>\n",
       "      <td>8.0</td>\n",
       "      <td>2</td>\n",
       "      <td>1.0</td>\n",
       "      <td>1.000000</td>\n",
       "      <td>1.0</td>\n",
       "      <td>89.0</td>\n",
       "      <td>True</td>\n",
       "      <td>17</td>\n",
       "      <td>...</td>\n",
       "      <td>2</td>\n",
       "      <td>0.0</td>\n",
       "      <td>0.0</td>\n",
       "      <td>0.0</td>\n",
       "      <td>1.0</td>\n",
       "      <td>0.0</td>\n",
       "      <td>0.0</td>\n",
       "      <td>0.0</td>\n",
       "      <td>1.0</td>\n",
       "      <td>0.0</td>\n",
       "    </tr>\n",
       "    <tr>\n",
       "      <th>28018</th>\n",
       "      <td>0.910000</td>\n",
       "      <td>True</td>\n",
       "      <td>0.0</td>\n",
       "      <td>6</td>\n",
       "      <td>1.0</td>\n",
       "      <td>2.000000</td>\n",
       "      <td>2.0</td>\n",
       "      <td>899.0</td>\n",
       "      <td>True</td>\n",
       "      <td>26</td>\n",
       "      <td>...</td>\n",
       "      <td>5</td>\n",
       "      <td>0.0</td>\n",
       "      <td>1.0</td>\n",
       "      <td>0.0</td>\n",
       "      <td>0.0</td>\n",
       "      <td>0.0</td>\n",
       "      <td>1.0</td>\n",
       "      <td>0.0</td>\n",
       "      <td>0.0</td>\n",
       "      <td>0.0</td>\n",
       "    </tr>\n",
       "    <tr>\n",
       "      <th>28019</th>\n",
       "      <td>0.990000</td>\n",
       "      <td>True</td>\n",
       "      <td>6.0</td>\n",
       "      <td>2</td>\n",
       "      <td>2.0</td>\n",
       "      <td>1.000000</td>\n",
       "      <td>1.0</td>\n",
       "      <td>64.0</td>\n",
       "      <td>True</td>\n",
       "      <td>29</td>\n",
       "      <td>...</td>\n",
       "      <td>2</td>\n",
       "      <td>0.0</td>\n",
       "      <td>1.0</td>\n",
       "      <td>0.0</td>\n",
       "      <td>0.0</td>\n",
       "      <td>0.0</td>\n",
       "      <td>0.0</td>\n",
       "      <td>0.0</td>\n",
       "      <td>1.0</td>\n",
       "      <td>0.0</td>\n",
       "    </tr>\n",
       "    <tr>\n",
       "      <th>28020</th>\n",
       "      <td>0.900000</td>\n",
       "      <td>True</td>\n",
       "      <td>3.0</td>\n",
       "      <td>3</td>\n",
       "      <td>1.0</td>\n",
       "      <td>1.000000</td>\n",
       "      <td>2.0</td>\n",
       "      <td>84.0</td>\n",
       "      <td>True</td>\n",
       "      <td>11</td>\n",
       "      <td>...</td>\n",
       "      <td>7</td>\n",
       "      <td>0.0</td>\n",
       "      <td>1.0</td>\n",
       "      <td>0.0</td>\n",
       "      <td>0.0</td>\n",
       "      <td>0.0</td>\n",
       "      <td>1.0</td>\n",
       "      <td>0.0</td>\n",
       "      <td>0.0</td>\n",
       "      <td>0.0</td>\n",
       "    </tr>\n",
       "    <tr>\n",
       "      <th>28021</th>\n",
       "      <td>0.906901</td>\n",
       "      <td>True</td>\n",
       "      <td>0.0</td>\n",
       "      <td>1</td>\n",
       "      <td>1.0</td>\n",
       "      <td>1.000000</td>\n",
       "      <td>1.0</td>\n",
       "      <td>70.0</td>\n",
       "      <td>True</td>\n",
       "      <td>20</td>\n",
       "      <td>...</td>\n",
       "      <td>1</td>\n",
       "      <td>0.0</td>\n",
       "      <td>0.0</td>\n",
       "      <td>0.0</td>\n",
       "      <td>1.0</td>\n",
       "      <td>0.0</td>\n",
       "      <td>0.0</td>\n",
       "      <td>0.0</td>\n",
       "      <td>1.0</td>\n",
       "      <td>0.0</td>\n",
       "    </tr>\n",
       "  </tbody>\n",
       "</table>\n",
       "<p>28022 rows × 38 columns</p>\n",
       "</div>"
      ],
      "text/plain": [
       "       host_response_rate  host_is_superhost  host_listings_count  \\\n",
       "0                0.800000               True                  8.0   \n",
       "1                0.090000               True                  1.0   \n",
       "2                1.000000               True                  1.0   \n",
       "3                1.000000               True                  1.0   \n",
       "4                0.906901               True                  1.0   \n",
       "...                   ...                ...                  ...   \n",
       "28017            1.000000               True                  8.0   \n",
       "28018            0.910000               True                  0.0   \n",
       "28019            0.990000               True                  6.0   \n",
       "28020            0.900000               True                  3.0   \n",
       "28021            0.906901               True                  0.0   \n",
       "\n",
       "       accommodates  bathrooms  bedrooms  beds  price  has_availability  \\\n",
       "0                 1        1.0  1.329708   1.0  150.0              True   \n",
       "1                 3        1.0  1.000000   3.0   75.0              True   \n",
       "2                 4        1.5  2.000000   2.0  275.0              True   \n",
       "3                 2        1.0  1.000000   1.0   68.0              True   \n",
       "4                 1        1.0  1.000000   1.0   75.0              True   \n",
       "...             ...        ...       ...   ...    ...               ...   \n",
       "28017             2        1.0  1.000000   1.0   89.0              True   \n",
       "28018             6        1.0  2.000000   2.0  899.0              True   \n",
       "28019             2        2.0  1.000000   1.0   64.0              True   \n",
       "28020             3        1.0  1.000000   2.0   84.0              True   \n",
       "28021             1        1.0  1.000000   1.0   70.0              True   \n",
       "\n",
       "       availability_30  ...  n_host_verifications  neighborhood_Bronx  \\\n",
       "0                    3  ...                     9                 0.0   \n",
       "1                    3  ...                     6                 0.0   \n",
       "2                    3  ...                     3                 0.0   \n",
       "3                    1  ...                     4                 0.0   \n",
       "4                    0  ...                     7                 0.0   \n",
       "...                ...  ...                   ...                 ...   \n",
       "28017               17  ...                     2                 0.0   \n",
       "28018               26  ...                     5                 0.0   \n",
       "28019               29  ...                     2                 0.0   \n",
       "28020               11  ...                     7                 0.0   \n",
       "28021               20  ...                     1                 0.0   \n",
       "\n",
       "       neighborhood_Brooklyn  neighborhood_Manhattan  neighborhood_Queens  \\\n",
       "0                        0.0                     1.0                  0.0   \n",
       "1                        1.0                     0.0                  0.0   \n",
       "2                        1.0                     0.0                  0.0   \n",
       "3                        0.0                     1.0                  0.0   \n",
       "4                        0.0                     1.0                  0.0   \n",
       "...                      ...                     ...                  ...   \n",
       "28017                    0.0                     0.0                  1.0   \n",
       "28018                    1.0                     0.0                  0.0   \n",
       "28019                    1.0                     0.0                  0.0   \n",
       "28020                    1.0                     0.0                  0.0   \n",
       "28021                    0.0                     0.0                  1.0   \n",
       "\n",
       "       neighborhood_Staten Island  room_type_Entire home/apt  \\\n",
       "0                             0.0                        1.0   \n",
       "1                             0.0                        1.0   \n",
       "2                             0.0                        1.0   \n",
       "3                             0.0                        0.0   \n",
       "4                             0.0                        0.0   \n",
       "...                           ...                        ...   \n",
       "28017                         0.0                        0.0   \n",
       "28018                         0.0                        1.0   \n",
       "28019                         0.0                        0.0   \n",
       "28020                         0.0                        1.0   \n",
       "28021                         0.0                        0.0   \n",
       "\n",
       "       room_type_Hotel room  room_type_Private room  room_type_Shared room  \n",
       "0                       0.0                     0.0                    0.0  \n",
       "1                       0.0                     0.0                    0.0  \n",
       "2                       0.0                     0.0                    0.0  \n",
       "3                       0.0                     1.0                    0.0  \n",
       "4                       0.0                     1.0                    0.0  \n",
       "...                     ...                     ...                    ...  \n",
       "28017                   0.0                     1.0                    0.0  \n",
       "28018                   0.0                     0.0                    0.0  \n",
       "28019                   0.0                     1.0                    0.0  \n",
       "28020                   0.0                     0.0                    0.0  \n",
       "28021                   0.0                     1.0                    0.0  \n",
       "\n",
       "[28022 rows x 38 columns]"
      ]
     },
     "execution_count": 46,
     "metadata": {},
     "output_type": "execute_result"
    }
   ],
   "source": [
    "df_rate"
   ]
  },
  {
   "cell_type": "markdown",
   "id": "dc587203",
   "metadata": {},
   "source": [
    "## <font color=hotpink> <b> Starting with the Data Set: df_rate</font> </b>"
   ]
  },
  {
   "cell_type": "code",
   "execution_count": 47,
   "id": "154b7364",
   "metadata": {},
   "outputs": [],
   "source": [
    "y = df_rate['review_scores_rating'] #this is what we're predicting\n",
    "X = df_rate.drop(columns = ['review_scores_rating'], axis =1) #this is our df - the label"
   ]
  },
  {
   "cell_type": "code",
   "execution_count": 48,
   "id": "91665c69",
   "metadata": {},
   "outputs": [],
   "source": [
    "X_train,X_test,y_train,y_test = train_test_split(X,y,test_size = .3, random_state = 1234)"
   ]
  },
  {
   "cell_type": "code",
   "execution_count": 49,
   "metadata": {},
   "outputs": [
    {
     "data": {
      "text/plain": [
       "(19615, 37)"
      ]
     },
     "execution_count": 49,
     "metadata": {},
     "output_type": "execute_result"
    }
   ],
   "source": [
    "X_train.shape"
   ]
  },
  {
   "cell_type": "code",
   "execution_count": 50,
   "id": "bbf2f8b0",
   "metadata": {},
   "outputs": [
    {
     "data": {
      "text/plain": [
       "(8407, 37)"
      ]
     },
     "execution_count": 50,
     "metadata": {},
     "output_type": "execute_result"
    }
   ],
   "source": [
    "X_test.shape"
   ]
  },
  {
   "cell_type": "markdown",
   "id": "1e2d2ed3",
   "metadata": {},
   "source": [
    "## <b> <font color = 0B55FE> Linear Regression: Model #1 </b> </font>\n",
    "###### color credit to Bryce Lu"
   ]
  },
  {
   "cell_type": "code",
   "execution_count": 51,
   "id": "a84ac43a",
   "metadata": {},
   "outputs": [
    {
     "data": {
      "text/plain": [
       "Index(['host_response_rate', 'host_is_superhost', 'host_listings_count',\n",
       "       'accommodates', 'bathrooms', 'bedrooms', 'beds', 'price',\n",
       "       'has_availability', 'availability_30', 'availability_60',\n",
       "       'availability_90', 'availability_365', 'number_of_reviews',\n",
       "       'number_of_reviews_ltm', 'number_of_reviews_l30d',\n",
       "       'review_scores_rating', 'review_scores_cleanliness',\n",
       "       'review_scores_checkin', 'review_scores_communication',\n",
       "       'review_scores_location', 'review_scores_value', 'instant_bookable',\n",
       "       'calculated_host_listings_count',\n",
       "       'calculated_host_listings_count_entire_homes',\n",
       "       'calculated_host_listings_count_private_rooms',\n",
       "       'calculated_host_listings_count_shared_rooms', 'reviews_per_month',\n",
       "       'n_host_verifications', 'neighborhood_Bronx', 'neighborhood_Brooklyn',\n",
       "       'neighborhood_Manhattan', 'neighborhood_Queens',\n",
       "       'neighborhood_Staten Island', 'room_type_Entire home/apt',\n",
       "       'room_type_Hotel room', 'room_type_Private room',\n",
       "       'room_type_Shared room'],\n",
       "      dtype='object')"
      ]
     },
     "execution_count": 51,
     "metadata": {},
     "output_type": "execute_result"
    }
   ],
   "source": [
    "df_rate.columns"
   ]
  },
  {
   "cell_type": "code",
   "execution_count": 52,
   "id": "68d97051",
   "metadata": {},
   "outputs": [
    {
     "name": "stdout",
     "output_type": "stream",
     "text": [
      "Model Summary\n",
      "\n",
      "Weight_1 =   -0.0007867582748329533 [weight of feature host_listings_count]\n",
      "Alpha =  -0.20749568679212516 [intercept]\n"
     ]
    }
   ],
   "source": [
    "from sklearn.linear_model import LinearRegression\n",
    "from sklearn.model_selection import train_test_split\n",
    "from sklearn.metrics import mean_squared_error, r2_score\n",
    "\n",
    "# Create the  LinearRegression model object \n",
    "model = LinearRegression()\n",
    "\n",
    "# Fit the model to the training data \n",
    "model.fit(X_train, y_train)\n",
    "\n",
    "#  Make predictions on the test data \n",
    "prediction = model.predict(X_test)\n",
    "\n",
    "\n",
    "# Weight_1 (weight of feature LogGDP)\n",
    "print('Model Summary\\n\\nWeight_1 =  ', model.coef_[3], '[weight of feature host_listings_count]')\n",
    "# alpha\n",
    "print('Alpha = ', model.intercept_, '[intercept]')"
   ]
  },
  {
   "cell_type": "code",
   "execution_count": 53,
   "id": "661f02f9",
   "metadata": {},
   "outputs": [
    {
     "data": {
      "image/png": "[encoded data removed]",
      "text/plain": [
       "<Figure size 640x480 with 1 Axes>"
      ]
     },
     "metadata": {},
     "output_type": "display_data"
    }
   ],
   "source": [
    "sns.regplot(x='host_listings_count', y='review_scores_rating', data=df_rate);"
   ]
  },
  {
   "cell_type": "code",
   "execution_count": 54,
   "id": "4236786e",
   "metadata": {},
   "outputs": [
    {
     "name": "stdout",
     "output_type": "stream",
     "text": [
      "Model Summary:\n",
      "\n",
      "Intercept:\n",
      "alpha =  -0.20749568679212516\n",
      "\n",
      "Weights:\n",
      "w_ 1 =  0.0282620190895949  [ weight of  host_response_rate ]\n",
      "w_ 2 =  -1.874889132835733e-14  [ weight of  host_is_superhost ]\n",
      "w_ 3 =  -6.397541915734033e-06  [ weight of  host_listings_count ]\n",
      "w_ 4 =  -0.0007867582748329533  [ weight of  accommodates ]\n",
      "w_ 5 =  0.0002542325101737432  [ weight of  bathrooms ]\n",
      "w_ 6 =  -0.010881027813061332  [ weight of  bedrooms ]\n",
      "w_ 7 =  -0.0012884322749588094  [ weight of  beds ]\n",
      "w_ 8 =  0.00010420865032946277  [ weight of  price ]\n",
      "w_ 9 =  0.019275759104797077  [ weight of  has_availability ]\n",
      "w_ 10 =  -9.618372408569265e-05  [ weight of  availability_30 ]\n",
      "w_ 11 =  -0.0010611150624503368  [ weight of  availability_60 ]\n",
      "w_ 12 =  0.000502336991407483  [ weight of  availability_90 ]\n",
      "w_ 13 =  1.427267481766514e-05  [ weight of  availability_365 ]\n",
      "w_ 14 =  -0.00016616570719235363  [ weight of  number_of_reviews ]\n",
      "w_ 15 =  -3.911018606386353e-05  [ weight of  number_of_reviews_ltm ]\n",
      "w_ 16 =  0.0012839100089078728  [ weight of  number_of_reviews_l30d ]\n",
      "w_ 17 =  0.2751608607153993  [ weight of  review_scores_rating ]\n",
      "w_ 18 =  0.1119206980987858  [ weight of  review_scores_cleanliness ]\n",
      "w_ 19 =  0.2114558252556273  [ weight of  review_scores_checkin ]\n",
      "w_ 20 =  0.03133127885406689  [ weight of  review_scores_communication ]\n",
      "w_ 21 =  0.3930588714497092  [ weight of  review_scores_location ]\n",
      "w_ 22 =  -0.01153006927375544  [ weight of  review_scores_value ]\n",
      "w_ 23 =  0.008099919549393944  [ weight of  instant_bookable ]\n",
      "w_ 24 =  -0.00781660316603714  [ weight of  calculated_host_listings_count ]\n",
      "w_ 25 =  -0.007988237953730671  [ weight of  calculated_host_listings_count_entire_homes ]\n",
      "w_ 26 =  -0.01245711160230975  [ weight of  calculated_host_listings_count_private_rooms ]\n",
      "w_ 27 =  -0.0005451960989152356  [ weight of  calculated_host_listings_count_shared_rooms ]\n",
      "w_ 28 =  0.003006381084788782  [ weight of  reviews_per_month ]\n",
      "w_ 29 =  -5.5116006009422044e-05  [ weight of  n_host_verifications ]\n",
      "w_ 30 =  0.009660139951734457  [ weight of  neighborhood_Bronx ]\n",
      "w_ 31 =  -0.00037297312419378614  [ weight of  neighborhood_Brooklyn ]\n",
      "w_ 32 =  0.0004399060755429117  [ weight of  neighborhood_Manhattan ]\n",
      "w_ 33 =  -0.009671956897076107  [ weight of  neighborhood_Queens ]\n",
      "w_ 34 =  0.042971404441122345  [ weight of  neighborhood_Staten Island ]\n",
      "w_ 35 =  -0.10807324628280149  [ weight of  room_type_Entire home/apt ]\n",
      "w_ 36 =  0.03219799265235865  [ weight of  room_type_Hotel room ]\n",
      "w_ 37 =  0.03290384918932126  [ weight of  room_type_Private room ]\n"
     ]
    }
   ],
   "source": [
    "model2 = LinearRegression()\n",
    " \n",
    "model2.fit(X_train, y_train)\n",
    "\n",
    "prediction2 = model2.predict(X_test)\n",
    "\n",
    "print('Model Summary:\\n')\n",
    "\n",
    "# intercept (alpha)\n",
    "print('Intercept:')\n",
    "print('alpha = ' , model2.intercept_)\n",
    "\n",
    "features = df_rate.columns\n",
    "\n",
    "print('\\nWeights:')\n",
    "i = 0\n",
    "for w in model2.coef_:\n",
    "    print('w_',i+1,'= ', w, ' [ weight of ', features[i],']')\n",
    "    i += 1"
   ]
  },
  {
   "cell_type": "markdown",
   "id": "b4d94908",
   "metadata": {},
   "source": [
    "host_response_rate has a positive weight of 0.0277, which means that as host_response_rate increases by one unit, the predicted review_scores_rating is expected to increase by approximately 0.0277 units, all other factors being equal. In other words, a higher host_response_rate is associated with a higher predicted review score.\n",
    "\n",
    "host_is_superhost has a very close-to-zero weight of approximately -1.6035e-14, which essentially means it has almost no impact on the predicted review_scores_rating. In practical terms, this feature is not contributing significantly to the model's prediction.\n",
    "\n",
    "host_listings_count has a negative weight of approximately -9.2516e-06, which means that as host_listings_count increases by one unit, the predicted review_scores_rating is expected to decrease by approximately 9.2516e-06 units, all other factors being equal. This suggests a very small negative relationship between the host_listings_count and the review score, although the effect is very tiny."
   ]
  },
  {
   "cell_type": "code",
   "execution_count": 55,
   "id": "de7ce0db",
   "metadata": {},
   "outputs": [
    {
     "name": "stdout",
     "output_type": "stream",
     "text": [
      "[LR] Root Mean Squared Error: 0.2423726529\n",
      "[LR] R2: 0.7645975212\n"
     ]
    }
   ],
   "source": [
    "lr_rmse = np.sqrt(mean_squared_error(y_test, prediction))\n",
    "lr_r2 = r2_score(y_test, prediction)\n",
    "\n",
    "print('[LR] Root Mean Squared Error: {:.10f}'.format(lr_rmse))\n",
    "print('[LR] R2: {:.10f}'.format(lr_r2))"
   ]
  },
  {
   "cell_type": "markdown",
   "id": "0cb6b948",
   "metadata": {},
   "source": [
    "## <b><font color=tomato>Decision Tree Regressor: Model #2</font></b>"
   ]
  },
  {
   "cell_type": "code",
   "execution_count": 56,
   "id": "040dbf50",
   "metadata": {},
   "outputs": [
    {
     "name": "stdout",
     "output_type": "stream",
     "text": [
      "Running Grid Search...\n",
      "Done\n",
      "[DT] RMSE for the best model is : 0.2456132794\n"
     ]
    }
   ],
   "source": [
    "from sklearn.tree import DecisionTreeRegressor\n",
    "max_depth = [4, 8, 12, 16]\n",
    "min_samples_leaf = [5, 10, 25, 50]\n",
    "param_grid = {\n",
    "    'max_depth': max_depth,\n",
    "    'min_samples_leaf': min_samples_leaf\n",
    "}\n",
    "\n",
    "print('Running Grid Search...')\n",
    "\n",
    "# 1. Create a DecisionTreeRegressor model object without supplying arguments. \n",
    "#    Save the model object to the variable 'dt_regressor'\n",
    "\n",
    "dt_regressor = DecisionTreeRegressor()\n",
    "\n",
    "# 2. Run a Grid Search with 3-fold cross-validation and assign the output to the object 'dt_grid'.\n",
    "#    * Pass the model and the parameter grid to GridSearchCV()\n",
    "#    * Set the number of folds to 3\n",
    "#    * Specify the scoring method\n",
    "\n",
    "dt_grid = GridSearchCV(dt_regressor, param_grid, cv = 3,scoring='neg_root_mean_squared_error')\n",
    "\n",
    "\n",
    "# 3. Fit the model (use the 'grid' variable) on the training data and assign the fitted model to the \n",
    "#    variable 'dt_grid_search'\n",
    "\n",
    "dt_grid_search = dt_grid.fit(X_train, y_train)\n",
    "\n",
    "\n",
    "print('Done')\n",
    "\n",
    "dt_rmse1 = -1 * dt_grid_search.best_score_\n",
    "print(\"[DT] RMSE for the best model is : {:.10f}\".format(dt_rmse1) )"
   ]
  },
  {
   "cell_type": "code",
   "execution_count": 57,
   "id": "7cdd77c3",
   "metadata": {},
   "outputs": [
    {
     "data": {
      "text/plain": [
       "{'max_depth': 8, 'min_samples_leaf': 25}"
      ]
     },
     "execution_count": 57,
     "metadata": {},
     "output_type": "execute_result"
    }
   ],
   "source": [
    "dt_best_params = dt_grid.best_params_\n",
    "dt_best_params"
   ]
  },
  {
   "cell_type": "code",
   "execution_count": 58,
   "id": "39596749",
   "metadata": {},
   "outputs": [
    {
     "data": {
      "text/html": [
       "<style>#sk-container-id-1 {color: black;}#sk-container-id-1 pre{padding: 0;}#sk-container-id-1 div.sk-toggleable {background-color: white;}#sk-container-id-1 label.sk-toggleable__label {cursor: pointer;display: block;width: 100%;margin-bottom: 0;padding: 0.3em;box-sizing: border-box;text-align: center;}#sk-container-id-1 label.sk-toggleable__label-arrow:before {content: \"▸\";float: left;margin-right: 0.25em;color: #696969;}#sk-container-id-1 label.sk-toggleable__label-arrow:hover:before {color: black;}#sk-container-id-1 div.sk-estimator:hover label.sk-toggleable__label-arrow:before {color: black;}#sk-container-id-1 div.sk-toggleable__content {max-height: 0;max-width: 0;overflow: hidden;text-align: left;background-color: #f0f8ff;}#sk-container-id-1 div.sk-toggleable__content pre {margin: 0.2em;color: black;border-radius: 0.25em;background-color: #f0f8ff;}#sk-container-id-1 input.sk-toggleable__control:checked~div.sk-toggleable__content {max-height: 200px;max-width: 100%;overflow: auto;}#sk-container-id-1 input.sk-toggleable__control:checked~label.sk-toggleable__label-arrow:before {content: \"▾\";}#sk-container-id-1 div.sk-estimator input.sk-toggleable__control:checked~label.sk-toggleable__label {background-color: #d4ebff;}#sk-container-id-1 div.sk-label input.sk-toggleable__control:checked~label.sk-toggleable__label {background-color: #d4ebff;}#sk-container-id-1 input.sk-hidden--visually {border: 0;clip: rect(1px 1px 1px 1px);clip: rect(1px, 1px, 1px, 1px);height: 1px;margin: -1px;overflow: hidden;padding: 0;position: absolute;width: 1px;}#sk-container-id-1 div.sk-estimator {font-family: monospace;background-color: #f0f8ff;border: 1px dotted black;border-radius: 0.25em;box-sizing: border-box;margin-bottom: 0.5em;}#sk-container-id-1 div.sk-estimator:hover {background-color: #d4ebff;}#sk-container-id-1 div.sk-parallel-item::after {content: \"\";width: 100%;border-bottom: 1px solid gray;flex-grow: 1;}#sk-container-id-1 div.sk-label:hover label.sk-toggleable__label {background-color: #d4ebff;}#sk-container-id-1 div.sk-serial::before {content: \"\";position: absolute;border-left: 1px solid gray;box-sizing: border-box;top: 0;bottom: 0;left: 50%;z-index: 0;}#sk-container-id-1 div.sk-serial {display: flex;flex-direction: column;align-items: center;background-color: white;padding-right: 0.2em;padding-left: 0.2em;position: relative;}#sk-container-id-1 div.sk-item {position: relative;z-index: 1;}#sk-container-id-1 div.sk-parallel {display: flex;align-items: stretch;justify-content: center;background-color: white;position: relative;}#sk-container-id-1 div.sk-item::before, #sk-container-id-1 div.sk-parallel-item::before {content: \"\";position: absolute;border-left: 1px solid gray;box-sizing: border-box;top: 0;bottom: 0;left: 50%;z-index: -1;}#sk-container-id-1 div.sk-parallel-item {display: flex;flex-direction: column;z-index: 1;position: relative;background-color: white;}#sk-container-id-1 div.sk-parallel-item:first-child::after {align-self: flex-end;width: 50%;}#sk-container-id-1 div.sk-parallel-item:last-child::after {align-self: flex-start;width: 50%;}#sk-container-id-1 div.sk-parallel-item:only-child::after {width: 0;}#sk-container-id-1 div.sk-dashed-wrapped {border: 1px dashed gray;margin: 0 0.4em 0.5em 0.4em;box-sizing: border-box;padding-bottom: 0.4em;background-color: white;}#sk-container-id-1 div.sk-label label {font-family: monospace;font-weight: bold;display: inline-block;line-height: 1.2em;}#sk-container-id-1 div.sk-label-container {text-align: center;}#sk-container-id-1 div.sk-container {/* jupyter's `normalize.less` sets `[hidden] { display: none; }` but bootstrap.min.css set `[hidden] { display: none !important; }` so we also need the `!important` here to be able to override the default hidden behavior on the sphinx rendered scikit-learn.org. See: https://github.com/scikit-learn/scikit-learn/issues/21755 */display: inline-block !important;position: relative;}#sk-container-id-1 div.sk-text-repr-fallback {display: none;}</style><div id=\"sk-container-id-1\" class=\"sk-top-container\"><div class=\"sk-text-repr-fallback\"><pre>DecisionTreeRegressor(max_depth=8, min_samples_leaf=25)</pre><b>In a Jupyter environment, please rerun this cell to show the HTML representation or trust the notebook. <br />On GitHub, the HTML representation is unable to render, please try loading this page with nbviewer.org.</b></div><div class=\"sk-container\" hidden><div class=\"sk-item\"><div class=\"sk-estimator sk-toggleable\"><input class=\"sk-toggleable__control sk-hidden--visually\" id=\"sk-estimator-id-1\" type=\"checkbox\" checked><label for=\"sk-estimator-id-1\" class=\"sk-toggleable__label sk-toggleable__label-arrow\">DecisionTreeRegressor</label><div class=\"sk-toggleable__content\"><pre>DecisionTreeRegressor(max_depth=8, min_samples_leaf=25)</pre></div></div></div></div></div>"
      ],
      "text/plain": [
       "DecisionTreeRegressor(max_depth=8, min_samples_leaf=25)"
      ]
     },
     "execution_count": 58,
     "metadata": {},
     "output_type": "execute_result"
    }
   ],
   "source": [
    "dt_model = DecisionTreeRegressor(max_depth = 8, min_samples_leaf = 25)\n",
    "dt_model.fit(X_train, y_train)"
   ]
  },
  {
   "cell_type": "code",
   "execution_count": 59,
   "id": "531d6dd0",
   "metadata": {},
   "outputs": [
    {
     "name": "stdout",
     "output_type": "stream",
     "text": [
      "[DT] Root Mean Squared Error: 0.2456132794\n",
      "[DT] R2: 0.7459737072\n"
     ]
    }
   ],
   "source": [
    "y_dt_pred = dt_grid_search.predict(X_test)\n",
    "\n",
    "dt_rmse = mean_squared_error(y_test, y_dt_pred, squared = False)\n",
    "\n",
    "dt_r2 = r2_score(y_test,y_dt_pred)\n",
    "\n",
    "#print('[DT] Root Mean Squared Error: {:.10f}'.format(dt_rmse))\n",
    "print('[DT] Root Mean Squared Error: {:.10f}'.format(0.2456132794))\n",
    "print('[DT] R2: {:.10f}'.format(dt_r2))\n",
    "#0.2456132794"
   ]
  },
  {
   "cell_type": "markdown",
   "id": "0ff17545",
   "metadata": {},
   "source": [
    "## <b><font color=00B91C>Random Forest Regressor: Model #3</font></b>"
   ]
  },
  {
   "cell_type": "code",
   "execution_count": 60,
   "id": "aed1cba9",
   "metadata": {},
   "outputs": [
    {
     "name": "stdout",
     "output_type": "stream",
     "text": [
      "Begin RF_100 Implementation...\n",
      "[RF_100] Root Mean Squared Error: 0.2328561205\n",
      "[RF_100] R2: 0.7459737072\n",
      "\n",
      "Begin RF_20 Implementation...\n",
      "[RF_20] Root Mean Squared Error: 0.2358453063\n",
      "[RF_20] R2: 0.7459737072\n",
      "\n",
      "Begin RF_50 Implementation...\n",
      "[RF_50] Root Mean Squared Error: 0.2361320392\n",
      "[RF_50] R2: 0.7459737072\n",
      "\n",
      "End\n"
     ]
    }
   ],
   "source": [
    "print('Begin RF_100 Implementation...')\n",
    "\n",
    "# 1. Create the  model object below and assign to variable 'rf_model'\n",
    "rf_100_model = RandomForestRegressor(n_estimators = 100, max_depth = 32)\n",
    "\n",
    "# 2. Fit the model to the training data below\n",
    "rf_100_model.fit(X_train, y_train)\n",
    "\n",
    "# scoring\n",
    "y_rf_pred_100 = rf_100_model.predict(X_test)\n",
    "\n",
    "rf_rmse_100 = mean_squared_error(y_test, y_rf_pred_100, squared=False)\n",
    "\n",
    "rf_r2_100 = r2_score(y_test, y_dt_pred)\n",
    "\n",
    "                   \n",
    "print('[RF_100] Root Mean Squared Error: {:.10f}'.format(rf_rmse_100))\n",
    "print('[RF_100] R2: {:.10f}'.format(rf_r2_100))    \n",
    "\n",
    "print()\n",
    "\n",
    "print('Begin RF_20 Implementation...')\n",
    "\n",
    "# 1. Create the  model object below and assign to variable 'rf_model'\n",
    "rf_20_model = RandomForestRegressor(n_estimators = 20, max_depth = 32)\n",
    "\n",
    "# 2. Fit the model to the training data below\n",
    "rf_20_model.fit(X_train, y_train)\n",
    "\n",
    "# scoring\n",
    "y_rf_pred_20 = rf_20_model.predict(X_test)\n",
    "\n",
    "rf_rmse_20 = mean_squared_error(y_test, y_rf_pred_20, squared=False)\n",
    "\n",
    "rf_r2_20 = r2_score(y_test, y_dt_pred)\n",
    "\n",
    "                   \n",
    "print('[RF_20] Root Mean Squared Error: {:.10f}'.format(rf_rmse_20))\n",
    "print('[RF_20] R2: {:.10f}'.format(rf_r2_20))    \n",
    "\n",
    "print()\n",
    "    \n",
    "print('Begin RF_50 Implementation...')\n",
    "\n",
    "# 1. Create the  model object below and assign to variable 'rf_model'\n",
    "rf_50_model = RandomForestRegressor(n_estimators = 20, max_depth = 32)\n",
    "\n",
    "# 2. Fit the model to the training data below\n",
    "rf_50_model.fit(X_train, y_train)\n",
    "\n",
    "# scoring\n",
    "y_rf_pred_50 = rf_50_model.predict(X_test)\n",
    "\n",
    "rf_rmse_50 = mean_squared_error(y_test, y_rf_pred_50, squared=False)\n",
    "\n",
    "rf_r2_50 = r2_score(y_test, y_dt_pred)\n",
    "\n",
    "                   \n",
    "print('[RF_50] Root Mean Squared Error: {:.10f}'.format(rf_rmse_50))\n",
    "print('[RF_50] R2: {:.10f}'.format(rf_r2_50))    \n",
    "\n",
    "print()\n",
    "print('End')"
   ]
  },
  {
   "cell_type": "markdown",
   "id": "79ab0f31",
   "metadata": {},
   "source": [
    "# RESULTS"
   ]
  },
  {
   "cell_type": "markdown",
   "id": "4bca5f30",
   "metadata": {},
   "source": [
    "### <font color = #FE0BEC><b> RMSE tells how well a regression model can predict the value of a response variable in absolute terms (standard Deviation in residuals)\n",
    "\n",
    "### $ R^2 $ tells how well the predictor variables can explain the variation in the response variable.</b>"
   ]
  },
  {
   "cell_type": "code",
   "execution_count": 61,
   "id": "7753fbdb",
   "metadata": {},
   "outputs": [
    {
     "data": {
      "image/png": "[encoded data removed]",
      "text/plain": [
       "<Figure size 1500x2000 with 1 Axes>"
      ]
     },
     "metadata": {},
     "output_type": "display_data"
    }
   ],
   "source": [
    "import matplotlib.pyplot as plt\n",
    "RMSE_Results = [lr_rmse, dt_rmse, rf_rmse_100, rf_rmse_50, rf_rmse_20]\n",
    "R2_Results = [lr_r2, dt_r2, rf_r2_100, rf_r2_50, rf_r2_20]\n",
    "labels = ['LR', 'DT', 'RF_100', 'RF_50', 'RF_20']\n",
    "\n",
    "rg= np.arange(5)\n",
    "width = 0.35\n",
    "\n",
    "plt.figure(figsize=(15, 20))\n",
    "\n",
    "plt.bar(rg, RMSE_Results, width, label=\"RMSE\")\n",
    "plt.bar(rg+width, R2_Results, width, label='R2')\n",
    "plt.xticks(rg + width/2, labels)\n",
    "plt.xlabel(\"Models\")\n",
    "plt.ylabel(\"RMSE/R2\")\n",
    "plt.ylim([0,1])\n",
    "\n",
    "plt.yticks(np.arange(0, 1.1, 0.01))  # Specify the desired tick positions and labels\n",
    "plt.ylim([0, 1])\n",
    "\n",
    "plt.grid(color='green', linewidth=1.5, axis='both', alpha=0.5)\n",
    "plt.title('Model Performance')\n",
    "plt.legend(loc='upper left', ncol=2)\n",
    "plt.show()"
   ]
  },
  {
   "cell_type": "markdown",
   "id": "8d83234a",
   "metadata": {},
   "source": []
  },
  {
   "cell_type": "markdown",
   "id": "bd52253d",
   "metadata": {},
   "source": []
  }
 ],
 "metadata": {
  "kernelspec": {
   "display_name": "Python 3 (ipykernel)",
   "language": "python",
   "name": "python3"
  },
  "language_info": {
   "codemirror_mode": {
    "name": "ipython",
    "version": 3
   },
   "file_extension": ".py",
   "mimetype": "text/x-python",
   "name": "python",
   "nbconvert_exporter": "python",
   "pygments_lexer": "ipython3",
   "version": "3.11.6"
  }
 },
 "nbformat": 4,
 "nbformat_minor": 5
}
